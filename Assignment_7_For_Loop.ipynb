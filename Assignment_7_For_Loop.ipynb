{
  "nbformat": 4,
  "nbformat_minor": 0,
  "metadata": {
    "colab": {
      "provenance": []
    },
    "kernelspec": {
      "name": "python3",
      "display_name": "Python 3"
    },
    "language_info": {
      "name": "python"
    }
  },
  "cells": [
    {
      "cell_type": "code",
      "execution_count": null,
      "metadata": {
        "colab": {
          "base_uri": "https://localhost:8080/"
        },
        "id": "IOgznri8fFi1",
        "outputId": "6ea35d8e-8d52-490f-ad44-b54a7ab7ab68"
      },
      "outputs": [
        {
          "output_type": "stream",
          "name": "stdout",
          "text": [
            "0\n",
            "1\n",
            "2\n",
            "3\n",
            "4\n",
            "5\n",
            "6\n",
            "7\n",
            "8\n",
            "9\n",
            "10\n"
          ]
        }
      ],
      "source": [
        "#1. Write a Python program that prints the numbers from 1 to 10 using a for loop.\n",
        "for i in range(0,11):\n",
        "  print(i)"
      ]
    },
    {
      "cell_type": "code",
      "source": [
        "#2. Write a Python program that prints the sum of the first n natural numbers, where n is given by the user.\n",
        "n=int(input(\"enter the number\"))\n",
        "sum=0\n",
        "for i in range(1,n+1):\n",
        "  sum=sum+i\n",
        "print(sum)\n"
      ],
      "metadata": {
        "colab": {
          "base_uri": "https://localhost:8080/"
        },
        "id": "cnZS3nDffg-Z",
        "outputId": "e41331fc-3c6c-4a38-fe4a-0f5725c857f4"
      },
      "execution_count": null,
      "outputs": [
        {
          "output_type": "stream",
          "name": "stdout",
          "text": [
            "enter the number7\n",
            "28\n"
          ]
        }
      ]
    },
    {
      "cell_type": "code",
      "source": [
        "#3 Write a Python program that prints the factorial of a given number n, where n is given by the user.\n",
        "n=int(input(\"enter the number\"))\n",
        "fact=1\n",
        "for i in range(1,n+1):\n",
        "  fact=fact*i\n",
        "print(fact)"
      ],
      "metadata": {
        "colab": {
          "base_uri": "https://localhost:8080/"
        },
        "id": "eVCqdH7UfhGY",
        "outputId": "0078c757-f6d1-4e8e-fcb8-ab22eda35dd5"
      },
      "execution_count": null,
      "outputs": [
        {
          "output_type": "stream",
          "name": "stdout",
          "text": [
            "enter the number4\n",
            "24\n"
          ]
        }
      ]
    },
    {
      "cell_type": "code",
      "source": [
        "#4. Write a Python program that prints all the even numbers from 2 to 20 using a for loop.\n",
        "for i in range(2,21):\n",
        "  if i%2==0:\n",
        "    print(i)"
      ],
      "metadata": {
        "colab": {
          "base_uri": "https://localhost:8080/"
        },
        "id": "VAJLEMH1fhJ9",
        "outputId": "fcf83740-6b77-40d7-e55f-82a7a60a932c"
      },
      "execution_count": null,
      "outputs": [
        {
          "output_type": "stream",
          "name": "stdout",
          "text": [
            "2\n",
            "4\n",
            "6\n",
            "8\n",
            "10\n",
            "12\n",
            "14\n",
            "16\n",
            "18\n",
            "20\n"
          ]
        }
      ]
    },
    {
      "cell_type": "code",
      "source": [
        "#5. Write a Python program that prints the multiplication table of a given number n, where n is given by the user.\n",
        "n=int(input(\"enter the number\"))\n",
        "for i in range(1,11):\n",
        "  print(f'{n} * {i} =',n*i)"
      ],
      "metadata": {
        "colab": {
          "base_uri": "https://localhost:8080/"
        },
        "id": "jMkTRcOmfhNo",
        "outputId": "51c40619-982c-4fcb-f258-50b7fdd1c829"
      },
      "execution_count": null,
      "outputs": [
        {
          "output_type": "stream",
          "name": "stdout",
          "text": [
            "enter the number09\n",
            "9 * 1 = 9\n",
            "9 * 2 = 18\n",
            "9 * 3 = 27\n",
            "9 * 4 = 36\n",
            "9 * 5 = 45\n",
            "9 * 6 = 54\n",
            "9 * 7 = 63\n",
            "9 * 8 = 72\n",
            "9 * 9 = 81\n",
            "9 * 10 = 90\n"
          ]
        }
      ]
    },
    {
      "cell_type": "code",
      "source": [
        "#6.Write a Python program that prints the Fibonacci sequence up to a given number n, where n is given by the user.\n",
        "n=int(input(\"Enter a positive number:\",))\n",
        "a,b=0,1\n",
        "for i in range(n):\n",
        "  print(a)\n",
        "  a,b=b,a+b"
      ],
      "metadata": {
        "colab": {
          "base_uri": "https://localhost:8080/"
        },
        "id": "OINazu7sfhPz",
        "outputId": "a89fb499-7ba6-4990-b3f5-51b1e488dd18"
      },
      "execution_count": null,
      "outputs": [
        {
          "output_type": "stream",
          "name": "stdout",
          "text": [
            "Enter a positive number:8\n",
            "0\n",
            "1\n",
            "1\n",
            "2\n",
            "3\n",
            "5\n",
            "8\n",
            "13\n"
          ]
        }
      ]
    },
    {
      "cell_type": "code",
      "source": [
        "#7. Write a Python program that prints the number of vowels in a given string s, where s is given by the user.\n",
        "s=input(\"enter the string :\")\n",
        "count=0\n",
        "for i in s:\n",
        "  if i in \"aeiouAEIOU\":\n",
        "    count=count+1\n",
        "print(count)"
      ],
      "metadata": {
        "colab": {
          "base_uri": "https://localhost:8080/"
        },
        "id": "REdwsldofhSM",
        "outputId": "a579a40c-7b6d-418e-f5d9-9bbfc025f596"
      },
      "execution_count": null,
      "outputs": [
        {
          "output_type": "stream",
          "name": "stdout",
          "text": [
            "enter the string :I Love My india\n",
            "6\n"
          ]
        }
      ]
    },
    {
      "cell_type": "code",
      "source": [
        "#8. Write a Python program that prints the reverse of a given string s, where s is given by the user.\n",
        "s=input(\"enter the string :\")\n",
        "reverse_string=s[::-1]\n",
        "print(reverse_string)"
      ],
      "metadata": {
        "colab": {
          "base_uri": "https://localhost:8080/"
        },
        "id": "ByUKNo4nfhUz",
        "outputId": "b29083c6-6114-48b7-82a1-cf108b036ef2"
      },
      "execution_count": null,
      "outputs": [
        {
          "output_type": "stream",
          "name": "stdout",
          "text": [
            "enter the string :asdfg\n",
            "gfdsa\n"
          ]
        }
      ]
    },
    {
      "cell_type": "code",
      "source": [
        "#9. Write a Python program that prints whether a given string s, where s is given by the user, is a palindrome or not\n",
        "s=input(\"enter the string :\")\n",
        "reverse_string=s[::-1]\n",
        "if s==reverse_string:\n",
        "  print(\"palindrome\")\n",
        "else:\n",
        "  print(\"not palindrome\")"
      ],
      "metadata": {
        "colab": {
          "base_uri": "https://localhost:8080/"
        },
        "id": "igdSEYEDfhXc",
        "outputId": "8448be24-3347-4209-9313-df22d0de3182"
      },
      "execution_count": null,
      "outputs": [
        {
          "output_type": "stream",
          "name": "stdout",
          "text": [
            "enter the string :as as ds\n",
            "not palindrome\n"
          ]
        }
      ]
    },
    {
      "cell_type": "code",
      "source": [
        "#10. Write a Python program that prints the number of words in a given sentence s, where s is given by the user.\n",
        "s = input(\"Enter a sentence: \")\n",
        "words = s.split()\n",
        "num_words = len(words)\n",
        "\n",
        "print(f\"The number of words in the sentence is: {num_words}\")\n"
      ],
      "metadata": {
        "colab": {
          "base_uri": "https://localhost:8080/"
        },
        "id": "mcUWGgW5fhaf",
        "outputId": "f0c2581f-beed-4b68-e98c-0c8cf9c9b817"
      },
      "execution_count": null,
      "outputs": [
        {
          "output_type": "stream",
          "name": "stdout",
          "text": [
            "Enter a sentence: learning Python is fun\n",
            "The number of words in the sentence is: 4\n"
          ]
        }
      ]
    },
    {
      "cell_type": "code",
      "source": [
        "#11. Write a Python program that prints the largest and smallest elements in a given list l, where l is given by the user.\n",
        "l = (input(\"Enter a list of numbers separated by spaces: \"))\n",
        "l1=[int(x) for x in l.split()]\n",
        "largest=max(l1)\n",
        "smallest=min(l1)\n",
        "\n",
        "print(f\"The largest element is: {largest}\")\n",
        "print(f\"The smallest element is: {smallest}\")\n",
        "\n"
      ],
      "metadata": {
        "id": "bZ9LyFNW4U5F",
        "colab": {
          "base_uri": "https://localhost:8080/"
        },
        "outputId": "bbdbcb83-c55a-49a9-b99f-e81b12337527"
      },
      "execution_count": 17,
      "outputs": [
        {
          "output_type": "stream",
          "name": "stdout",
          "text": [
            "Enter a list of numbers separated by spaces: 2 3 4 5 6 6 7 8\n",
            "The largest element is: 8\n",
            "The smallest element is: 2\n"
          ]
        }
      ]
    },
    {
      "cell_type": "code",
      "source": [
        "#12. Write a Python program that prints the number of occurrences of a given element x in a given list l, where x and l are given by the user..\n",
        "l = (input(\"Enter a list of numbers separated by spaces: \"))\n",
        "l1=[int(x) for x in l.split()]\n",
        "n=int(input(\"enter the number\"))\n",
        "count=0\n",
        "for i in l1:\n",
        "  if i==n:\n",
        "    count=count+1\n",
        "print(f\"The number {n} appears {count} times in the list.\")"
      ],
      "metadata": {
        "id": "8o_W7mGM4U9T",
        "colab": {
          "base_uri": "https://localhost:8080/"
        },
        "outputId": "a4947c6e-fa9e-4e2b-c24c-27c949170263"
      },
      "execution_count": 19,
      "outputs": [
        {
          "output_type": "stream",
          "name": "stdout",
          "text": [
            "Enter a list of numbers separated by spaces: 2 3 4 5 6 7 8 8 7 6 5 4 6 5 2 3 5\n",
            "enter the number2\n",
            "The number 2 appears 2 times in the list.\n"
          ]
        }
      ]
    },
    {
      "cell_type": "code",
      "source": [
        "#13. Write a Python program that prints the sorted version of a given list l, where l is given by the user.\n",
        "l = (input(\"Enter a list of numbers separated by spaces: \"))\n",
        "l1=[int(x) for x in l.split()]\n",
        "sorted_l1=sorted(l1)\n",
        "print(f\"The sorted list is: {sorted_l1}\" )"
      ],
      "metadata": {
        "id": "k_qP3Ms74VBE",
        "colab": {
          "base_uri": "https://localhost:8080/"
        },
        "outputId": "005dd4d3-9545-438a-e96d-dce1614dd2f5"
      },
      "execution_count": 23,
      "outputs": [
        {
          "output_type": "stream",
          "name": "stdout",
          "text": [
            "Enter a list of numbers separated by spaces: 2 3 9 8 5 6 1 4 8 5 0\n",
            "The sorted list is: [0, 1, 2, 3, 4, 5, 5, 6, 8, 8, 9]\n"
          ]
        }
      ]
    },
    {
      "cell_type": "code",
      "source": [
        "#14. Write a Python program that prints the common elements in two given lists l1 and l2, where l1 and l2 are given by the user.\n",
        "l1_input=input(\"Enter numbers for the first list, separated by spaces: \")\n",
        "l1= [int(x) for x in l1_input.split()]\n",
        "l2_input=input(\"Enter numbers for the first list, separated by spaces: \")\n",
        "l2= [int(x) for x in l2_input.split()]\n",
        "\n",
        "common_elements=list(set(l1) & set(l2))\n",
        "print(\"The common elements are: \",common_elements)"
      ],
      "metadata": {
        "id": "fDFap8DP4VF0",
        "colab": {
          "base_uri": "https://localhost:8080/"
        },
        "outputId": "82c9e040-473d-4039-d4d6-29311e144571"
      },
      "execution_count": 26,
      "outputs": [
        {
          "output_type": "stream",
          "name": "stdout",
          "text": [
            "Enter numbers for the first list, separated by spaces: 1 2 3 4 5 6 7\n",
            "Enter numbers for the first list, separated by spaces: 0 9 8 7 6 5 4\n",
            "The common elements are:  [4, 5, 6, 7]\n"
          ]
        }
      ]
    },
    {
      "cell_type": "code",
      "source": [
        "#15. Write a Python program that prints the number of prime numbers in a given range r, where r is given by the user."
      ],
      "metadata": {
        "id": "jo4Z5JzQ4VIn"
      },
      "execution_count": null,
      "outputs": []
    },
    {
      "cell_type": "code",
      "source": [],
      "metadata": {
        "id": "4jL1Dql_4VLl"
      },
      "execution_count": null,
      "outputs": []
    },
    {
      "cell_type": "code",
      "source": [],
      "metadata": {
        "id": "oUujBvFX4VOd"
      },
      "execution_count": null,
      "outputs": []
    },
    {
      "cell_type": "code",
      "source": [],
      "metadata": {
        "id": "HmSVOAwe4VQw"
      },
      "execution_count": null,
      "outputs": []
    },
    {
      "cell_type": "code",
      "source": [],
      "metadata": {
        "id": "xrXNer5j4VUX"
      },
      "execution_count": null,
      "outputs": []
    }
  ]
}