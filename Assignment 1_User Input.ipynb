{
 "cells": [
  {
   "cell_type": "code",
   "execution_count": 7,
   "id": "2072c3e6-f1f7-46bc-89de-65414a9948a3",
   "metadata": {},
   "outputs": [
    {
     "name": "stdin",
     "output_type": "stream",
     "text": [
      "Enter the 1st number:  2\n",
      "Enter the 2nd number:  2\n"
     ]
    },
    {
     "name": "stdout",
     "output_type": "stream",
     "text": [
      "Sum of Num1 and Num2 is: 4\n"
     ]
    }
   ],
   "source": [
    "#1. Write a Python program to take two numbers as input and print their sum.\n",
    "Num1=int(input('Enter the 1st number: '))\n",
    "Num2=int(input('Enter the 2nd number: '))\n",
    "print('Sum of Num1 and Num2 is:',Num1+Num2)\n"
   ]
  },
  {
   "cell_type": "code",
   "execution_count": 11,
   "id": "6c5db0ab-4c0f-4ce2-a6d1-e747ed03b942",
   "metadata": {},
   "outputs": [
    {
     "name": "stdin",
     "output_type": "stream",
     "text": [
      "Enter the 1st number:  5\n",
      "Enter the 2nd number:  6\n"
     ]
    },
    {
     "name": "stdout",
     "output_type": "stream",
     "text": [
      "difference of Num1 and Num2 is: -1\n"
     ]
    }
   ],
   "source": [
    "#2. Write a Python program to take two numbers as input and print their difference\n",
    "Num1=int(input('Enter the 1st number: '))\n",
    "Num2=int(input('Enter the 2nd number: '))\n",
    "print('difference of Num1 and Num2 is:',Num1-Num2)"
   ]
  },
  {
   "cell_type": "code",
   "execution_count": 13,
   "id": "8f5a734c-2678-4af3-8f62-db4e1387c989",
   "metadata": {},
   "outputs": [
    {
     "name": "stdin",
     "output_type": "stream",
     "text": [
      "Enter the 1st number:  2\n",
      "Enter the 2nd number:  3\n"
     ]
    },
    {
     "name": "stdout",
     "output_type": "stream",
     "text": [
      "Product of Num1 and Num2 is: 6\n"
     ]
    }
   ],
   "source": [
    "#3. Write a Python program to take two numbers as input and print their product.\n",
    "Num1=int(input('Enter the 1st number: '))\n",
    "Num2=int(input('Enter the 2nd number: '))\n",
    "print('Product of Num1 and Num2 is:',Num1*Num2)"
   ]
  },
  {
   "cell_type": "code",
   "execution_count": 19,
   "id": "7b16838e-f6a6-4d5e-935c-a7408a2d8ed7",
   "metadata": {},
   "outputs": [
    {
     "name": "stdin",
     "output_type": "stream",
     "text": [
      "Enter the 1st number:  3\n",
      "Enter the 2nd number:  2\n"
     ]
    },
    {
     "name": "stdout",
     "output_type": "stream",
     "text": [
      "difference of Num1 and Num2 is: 1\n"
     ]
    }
   ],
   "source": [
    "#4. Write a Python program to take two numbers as input and print their quotient.\n",
    "Num1=int(input('Enter the 1st number: '))\n",
    "Num2=int(input('Enter the 2nd number: '))\n",
    "print('difference of Num1 and Num2 is:',Num1//Num2)"
   ]
  },
  {
   "cell_type": "code",
   "execution_count": 21,
   "id": "e64aee17-98fd-4920-8429-a6851f4a97ba",
   "metadata": {},
   "outputs": [
    {
     "name": "stdin",
     "output_type": "stream",
     "text": [
      "Enter the 1st number:  7\n",
      "Enter the 2nd number:  3\n"
     ]
    },
    {
     "name": "stdout",
     "output_type": "stream",
     "text": [
      "Remainder of Num1 and Num2 is: 1\n"
     ]
    }
   ],
   "source": [
    "#5. Write a Python program to take two numbers as input and print their remainder\n",
    "Num1=int(input('Enter the 1st number: '))\n",
    "Num2=int(input('Enter the 2nd number: '))\n",
    "print('Remainder of Num1 and Num2 is:',Num1%Num2)"
   ]
  },
  {
   "cell_type": "code",
   "execution_count": 23,
   "id": "1a4f1e48-47df-450b-8fe1-8267d9c2196a",
   "metadata": {},
   "outputs": [
    {
     "name": "stdin",
     "output_type": "stream",
     "text": [
      "Enter the 1st number:  3\n",
      "Enter the 2nd number:  3\n"
     ]
    },
    {
     "name": "stdout",
     "output_type": "stream",
     "text": [
      "Num1 power Num2 is: 27\n"
     ]
    }
   ],
   "source": [
    "#6. Write a Python program to take two numbers as input and print their power.\n",
    "Num1=int(input('Enter the 1st number: '))\n",
    "Num2=int(input('Enter the 2nd number: '))\n",
    "print('Num1 power Num2 is:',Num1**Num2)"
   ]
  },
  {
   "cell_type": "code",
   "execution_count": 31,
   "id": "d967020b-a09c-4093-a684-4d4464e0ae02",
   "metadata": {},
   "outputs": [
    {
     "name": "stdin",
     "output_type": "stream",
     "text": [
      "Enter the 1st number:  4\n",
      "Enter the 2nd number:  4\n"
     ]
    },
    {
     "name": "stdout",
     "output_type": "stream",
     "text": [
      "Avg of Num1 and Num2 is: 4.0\n"
     ]
    }
   ],
   "source": [
    "#7. Write a Python program to take two numbers as input and print their average.\n",
    "Num1=int(input('Enter the 1st number: '))\n",
    "Num2=int(input('Enter the 2nd number: '))\n",
    "print('Avg of Num1 and Num2 is:',(Num1+Num2)/2)"
   ]
  },
  {
   "cell_type": "code",
   "execution_count": 33,
   "id": "7bf2b97e-e803-4d02-aa30-86a1882d8d72",
   "metadata": {},
   "outputs": [
    {
     "name": "stdin",
     "output_type": "stream",
     "text": [
      "Enter a number:  3\n"
     ]
    },
    {
     "name": "stdout",
     "output_type": "stream",
     "text": [
      "square root of Num is: 9\n"
     ]
    }
   ],
   "source": [
    "#8. Write a Python program to take a number as input and print its square root.\n",
    "Num=int(input('Enter a number: '))\n",
    "print('square root of Num is:',(Num**2))"
   ]
  },
  {
   "cell_type": "code",
   "execution_count": 35,
   "id": "5751a245-32d7-47fd-8358-1dbf4f955919",
   "metadata": {},
   "outputs": [
    {
     "name": "stdin",
     "output_type": "stream",
     "text": [
      "Enter a number:  5\n"
     ]
    },
    {
     "name": "stdout",
     "output_type": "stream",
     "text": [
      "cube root of Num is: 125\n"
     ]
    }
   ],
   "source": [
    "#9. Write a Python program to take a number as input and print its cube root.\n",
    "Num=int(input('Enter a number: '))\n",
    "print('cube root of Num is:',(Num**3))"
   ]
  },
  {
   "cell_type": "code",
   "execution_count": 41,
   "id": "adba4bcb-c2c6-443a-95d6-15408d4822a9",
   "metadata": {},
   "outputs": [
    {
     "name": "stdin",
     "output_type": "stream",
     "text": [
      "Enter a number:  -56.9\n"
     ]
    },
    {
     "name": "stdout",
     "output_type": "stream",
     "text": [
      "Absolute value of -56.9 is: 56.9\n"
     ]
    }
   ],
   "source": [
    "#10.Write a Python program to take a number as input and print its absolute value.\n",
    "Num=float(input('Enter a number: '))\n",
    "abs_value=abs(Num)\n",
    "print('Absolute value of', (Num) ,'is:',(abs_value))"
   ]
  },
  {
   "cell_type": "code",
   "execution_count": 51,
   "id": "cc56c6fd-b82c-4c0e-88fc-0633f46f8fb6",
   "metadata": {},
   "outputs": [
    {
     "name": "stdin",
     "output_type": "stream",
     "text": [
      "Enter a number:  8.99\n"
     ]
    },
    {
     "name": "stdout",
     "output_type": "stream",
     "text": [
      "The floor value of 8.99 is: 8\n"
     ]
    }
   ],
   "source": [
    "#11.Write a Python program to take a number as input and print its floor value.\n",
    "Num=float(input('Enter a number: '))\n",
    "floor_value=math.floor(Num)\n",
    "print('The floor value of', (Num) ,'is:',(floor_value))"
   ]
  },
  {
   "cell_type": "code",
   "execution_count": 55,
   "id": "4a823dcf-5621-4d61-b6ce-4b192483ab5e",
   "metadata": {},
   "outputs": [
    {
     "name": "stdin",
     "output_type": "stream",
     "text": [
      "Enter a number:  -9.8\n"
     ]
    },
    {
     "name": "stdout",
     "output_type": "stream",
     "text": [
      "The ceil value of -9.8 is: -9\n"
     ]
    }
   ],
   "source": [
    "#12.Write a Python program to take a number as input and print its ceiling value.\n",
    "Num=float(input('Enter a number: '))\n",
    "ceil_value=math.ceil(Num)\n",
    "print('The ceil value of', (Num) ,'is:',(ceil_value))"
   ]
  }
 ],
 "metadata": {
  "kernelspec": {
   "display_name": "Python [conda env:base] *",
   "language": "python",
   "name": "conda-base-py"
  },
  "language_info": {
   "codemirror_mode": {
    "name": "ipython",
    "version": 3
   },
   "file_extension": ".py",
   "mimetype": "text/x-python",
   "name": "python",
   "nbconvert_exporter": "python",
   "pygments_lexer": "ipython3",
   "version": "3.12.7"
  }
 },
 "nbformat": 4,
 "nbformat_minor": 5
}
