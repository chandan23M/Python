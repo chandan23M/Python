{
  "nbformat": 4,
  "nbformat_minor": 0,
  "metadata": {
    "colab": {
      "provenance": []
    },
    "kernelspec": {
      "name": "python3",
      "display_name": "Python 3"
    },
    "language_info": {
      "name": "python"
    }
  },
  "cells": [
    {
      "cell_type": "code",
      "execution_count": 2,
      "metadata": {
        "colab": {
          "base_uri": "https://localhost:8080/"
        },
        "id": "wqY5d25Au3To",
        "outputId": "f96540a9-7140-4a10-eb78-0ca0becb62f3"
      },
      "outputs": [
        {
          "output_type": "stream",
          "name": "stdout",
          "text": [
            "Hello World\n"
          ]
        }
      ],
      "source": [
        "print('Hello World')"
      ]
    },
    {
      "cell_type": "code",
      "source": [
        "#4. Write a Python program to count the total number of digits in a number using a while loop.\n",
        "n=int(input('Enter a positive number: ',))\n",
        "n1=n\n",
        "total_digit=0\n",
        "while n1>0:\n",
        "  total_digit+=1\n",
        "  n1=n1//10\n",
        "print(f'Total digits in {n} is:',total_digit)\n"
      ],
      "metadata": {
        "colab": {
          "base_uri": "https://localhost:8080/"
        },
        "id": "3RqTOOWMxMMH",
        "outputId": "8af2938b-7a4e-4992-af46-7d772ee9a9d7"
      },
      "execution_count": 11,
      "outputs": [
        {
          "output_type": "stream",
          "name": "stdout",
          "text": [
            "Enter a positive number: 6543\n",
            "Total digits in 6543 is: 4\n"
          ]
        }
      ]
    },
    {
      "cell_type": "code",
      "source": [
        "#5. Write a Python program to display numbers from -10 to -1 using a for loop.\n",
        "for i in range(-10,0):\n",
        "  print(i)\n"
      ],
      "metadata": {
        "colab": {
          "base_uri": "https://localhost:8080/"
        },
        "id": "mgmzmSmIxMX9",
        "outputId": "6be10131-c5ad-4ef1-da9f-7603d52fad75"
      },
      "execution_count": 12,
      "outputs": [
        {
          "output_type": "stream",
          "name": "stdout",
          "text": [
            "-10\n",
            "-9\n",
            "-8\n",
            "-7\n",
            "-6\n",
            "-5\n",
            "-4\n",
            "-3\n",
            "-2\n",
            "-1\n"
          ]
        }
      ]
    },
    {
      "cell_type": "code",
      "source": [
        "#6. Write a Python program to use the else block to display a message “Done” after successful execution of a for loop.\n",
        "for i in range(-10,0):\n",
        "  print(i)\n",
        "else:\n",
        "  print('Done')"
      ],
      "metadata": {
        "colab": {
          "base_uri": "https://localhost:8080/"
        },
        "id": "zgjQrVtNxMb5",
        "outputId": "65919f00-0470-4291-d93c-20f81e36ac79"
      },
      "execution_count": 14,
      "outputs": [
        {
          "output_type": "stream",
          "name": "stdout",
          "text": [
            "-10\n",
            "-9\n",
            "-8\n",
            "-7\n",
            "-6\n",
            "-5\n",
            "-4\n",
            "-3\n",
            "-2\n",
            "-1\n",
            "Done\n"
          ]
        }
      ]
    },
    {
      "cell_type": "code",
      "source": [
        "#7. Write a Python program to display all prime numbers within a range using a for loop.\n",
        "start=1\n",
        "end=20\n",
        "print(f'All prime numbers between {start} to {end} are:')\n",
        "for i in range(start,end+1):\n",
        "  if i>1:\n",
        "    for j in range(2,i):\n",
        "      if i%j==0:\n",
        "        break\n",
        "    else:\n",
        "      print(i)\n",
        "\n"
      ],
      "metadata": {
        "colab": {
          "base_uri": "https://localhost:8080/"
        },
        "id": "_J8Gm_8YxMe9",
        "outputId": "cacf1da2-9dbe-495b-f230-a120c9cfbe0d"
      },
      "execution_count": 17,
      "outputs": [
        {
          "output_type": "stream",
          "name": "stdout",
          "text": [
            "All prime numbers between 1 to 20 are:\n",
            "2\n",
            "3\n",
            "5\n",
            "7\n",
            "11\n",
            "13\n",
            "17\n",
            "19\n"
          ]
        }
      ]
    },
    {
      "cell_type": "code",
      "source": [
        "#8. Write a Python program to display the Fibonacci series up to 10 terms using a for loop.\n",
        "\n",
        "n_terms=10\n",
        "a, b=0, 1\n",
        "\n",
        "print(\"Fibonacci series up to 10 terms:\")\n",
        "\n",
        "for i in range(n_terms):\n",
        "    print(a)\n",
        "    a, b = b, a + b"
      ],
      "metadata": {
        "colab": {
          "base_uri": "https://localhost:8080/"
        },
        "id": "F4h4hQ8UxMh7",
        "outputId": "38be672f-ded1-4793-92b4-a359738ab4a0"
      },
      "execution_count": 25,
      "outputs": [
        {
          "output_type": "stream",
          "name": "stdout",
          "text": [
            "Fibonacci series up to 10 terms:\n",
            "0\n",
            "1\n",
            "1\n",
            "2\n",
            "3\n",
            "5\n",
            "8\n",
            "13\n",
            "21\n",
            "34\n"
          ]
        }
      ]
    },
    {
      "cell_type": "code",
      "source": [
        "#9. Write a Python program to find the factorial of a given number using a for loop.\n",
        "n=int(input('Enter a positive number: '))\n",
        "for i in range(1,n):\n",
        "  n=n*i\n",
        "print(f'Factorial of {n} is:',n)"
      ],
      "metadata": {
        "colab": {
          "base_uri": "https://localhost:8080/"
        },
        "id": "RmOqdzPCxMle",
        "outputId": "48f0918b-c360-41fa-c0e4-9b95f220c79b"
      },
      "execution_count": 26,
      "outputs": [
        {
          "output_type": "stream",
          "name": "stdout",
          "text": [
            "Enter a positive number: 7\n",
            "Factorial of 5040 is: 5040\n"
          ]
        }
      ]
    },
    {
      "cell_type": "code",
      "source": [
        "#10. Write a Python program to reverse a given integer number using a while loop.\n",
        "n=int(input('Enter a positive number: '))\n",
        "reverse_num=0\n",
        "while n>0:\n",
        "  digit=n%10\n",
        "  reverse_num=reverse_num*10+digit\n",
        "  n=n//10\n",
        "print(f'Reverse of {n} is:',reverse_num)"
      ],
      "metadata": {
        "colab": {
          "base_uri": "https://localhost:8080/"
        },
        "id": "0ArLDRVaxMoY",
        "outputId": "5111b3e9-d31d-4436-de17-fad2b556c5f0"
      },
      "execution_count": 27,
      "outputs": [
        {
          "output_type": "stream",
          "name": "stdout",
          "text": [
            "Enter a positive number: 908\n",
            "Reverse of 0 is: 809\n"
          ]
        }
      ]
    },
    {
      "cell_type": "code",
      "source": [
        "#11. Write a Python program to calculate the cube of all numbers from 1 to a given number using a for loop.\n",
        "n=int(input('Enter a positive number: '))\n",
        "print(f'The cube of all numbers from 1 to {n} is:')\n",
        "for i in range(1,n+1):\n",
        "  print(i**3)"
      ],
      "metadata": {
        "colab": {
          "base_uri": "https://localhost:8080/"
        },
        "id": "KyMv3O0zXHrX",
        "outputId": "0879a2c6-e365-47a1-a42d-583f76512408"
      },
      "execution_count": 31,
      "outputs": [
        {
          "output_type": "stream",
          "name": "stdout",
          "text": [
            "Enter a positive number: 5\n",
            "The cube of all numbers from 1 to 5 is:\n",
            "1\n",
            "8\n",
            "27\n",
            "64\n",
            "125\n"
          ]
        }
      ]
    },
    {
      "cell_type": "code",
      "source": [],
      "metadata": {
        "id": "riOziHgIXHva"
      },
      "execution_count": null,
      "outputs": []
    },
    {
      "cell_type": "code",
      "source": [],
      "metadata": {
        "id": "mul75nvFXHzI"
      },
      "execution_count": null,
      "outputs": []
    },
    {
      "cell_type": "code",
      "source": [],
      "metadata": {
        "id": "Tok18rJoXH1T"
      },
      "execution_count": null,
      "outputs": []
    },
    {
      "cell_type": "code",
      "source": [],
      "metadata": {
        "id": "RThG-mTdXH4X"
      },
      "execution_count": null,
      "outputs": []
    },
    {
      "cell_type": "code",
      "source": [],
      "metadata": {
        "id": "cIXKthp_XH7P"
      },
      "execution_count": null,
      "outputs": []
    },
    {
      "cell_type": "code",
      "source": [],
      "metadata": {
        "id": "dZPgZwk-XH_-"
      },
      "execution_count": null,
      "outputs": []
    },
    {
      "cell_type": "code",
      "source": [],
      "metadata": {
        "id": "wDvm160AXIDW"
      },
      "execution_count": null,
      "outputs": []
    }
  ]
}