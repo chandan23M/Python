{
 "cells": [
  {
   "cell_type": "code",
   "execution_count": 4,
   "id": "1ac8b54f-01d1-42b4-93b9-769840ab6d0b",
   "metadata": {},
   "outputs": [
    {
     "name": "stdin",
     "output_type": "stream",
     "text": [
      "Enter the first string:  Py\n",
      "Enter the second string:  thon\n"
     ]
    },
    {
     "name": "stdout",
     "output_type": "stream",
     "text": [
      "Concatenated string: Python\n"
     ]
    }
   ],
   "source": [
    "'''\n",
    "1. String Concatenation:\n",
    "Write a program that takes two strings as input and prints their concatenation.\n",
    "'''\n",
    "str1 = input(\"Enter the first string: \")\n",
    "str2 = input(\"Enter the second string: \")\n",
    "\n",
    "print(\"Concatenated string:\", str1 + str2)\n"
   ]
  },
  {
   "cell_type": "code",
   "execution_count": 6,
   "id": "9ee62e8c-e9db-4346-9fa2-0263474ada7c",
   "metadata": {},
   "outputs": [
    {
     "name": "stdout",
     "output_type": "stream",
     "text": [
      "5\n"
     ]
    }
   ],
   "source": [
    "'''\n",
    "2. String Length:\n",
    "Create a function that takes a string as input and returns its length.\n",
    "'''\n",
    "def string_length(s):\n",
    "    return len(s)\n",
    "s='India'\n",
    "print(string_length(s))"
   ]
  },
  {
   "cell_type": "code",
   "execution_count": 8,
   "id": "78b69cda-ad61-495a-aac8-d0e9c7cbd112",
   "metadata": {},
   "outputs": [
    {
     "name": "stdin",
     "output_type": "stream",
     "text": [
      "Enter a string:  HEY\n",
      "Enter how many times to repeat it:  5\n"
     ]
    },
    {
     "name": "stdout",
     "output_type": "stream",
     "text": [
      "HEYHEYHEYHEYHEY\n"
     ]
    }
   ],
   "source": [
    "'''\n",
    "3. String Repetition:\n",
    "Write a program that takes a string and an integer as input and prints the string repeated that \n",
    "many times\n",
    "'''\n",
    "text = input(\"Enter a string: \")\n",
    "times = int(input(\"Enter how many times to repeat it: \"))\n",
    "\n",
    "print(text * times)\n"
   ]
  },
  {
   "cell_type": "code",
   "execution_count": 10,
   "id": "3880c90a-aa24-4791-be4d-bbbf12351183",
   "metadata": {},
   "outputs": [
    {
     "name": "stdin",
     "output_type": "stream",
     "text": [
      "Enter a string:  aRMY\n"
     ]
    },
    {
     "name": "stdout",
     "output_type": "stream",
     "text": [
      "Uppercase: ARMY\n",
      "Lowercase: army\n"
     ]
    }
   ],
   "source": [
    "'''\n",
    "4. String Upper and Lower:\n",
    "Create a program that takes a string as input and prints it in both uppercase and lowercase.\n",
    "'''\n",
    "text = input(\"Enter a string: \")\n",
    "\n",
    "print(\"Uppercase:\", text.upper())\n",
    "print(\"Lowercase:\", text.lower())\n"
   ]
  },
  {
   "cell_type": "code",
   "execution_count": 16,
   "id": "29268fc5-73cf-41d2-9f5d-53a3e096f917",
   "metadata": {},
   "outputs": [
    {
     "name": "stdin",
     "output_type": "stream",
     "text": [
      "Enter a string:  Dictionary\n"
     ]
    },
    {
     "name": "stdout",
     "output_type": "stream",
     "text": [
      "First three characters: Dic\n"
     ]
    }
   ],
   "source": [
    "'''\n",
    "5. String Slicing:\n",
    "Write a program that takes a string as input and prints its first three characters\n",
    "'''\n",
    "text = input(\"Enter a string: \")\n",
    "\n",
    "print(\"First three characters:\", text[:3])\n"
   ]
  },
  {
   "cell_type": "code",
   "execution_count": 7,
   "id": "33888649-2ca9-4314-8bee-426197a547d6",
   "metadata": {},
   "outputs": [
    {
     "name": "stdin",
     "output_type": "stream",
     "text": [
      "Enter a string:  I love my India\n"
     ]
    },
    {
     "name": "stdout",
     "output_type": "stream",
     "text": [
      "6\n"
     ]
    }
   ],
   "source": [
    "'''\n",
    "6. Count Vowels:\n",
    "Create a function that takes a string as input and returns the count of vowels (a, e, i, o, u) in \n",
    "the string\n",
    "'''\n",
    "def count_vowels(s):\n",
    "    vowels = 'aeiouAEIOU'\n",
    "    count = 0\n",
    "    for char in s:\n",
    "        if char in vowels:\n",
    "            count += 1\n",
    "    return count\n",
    "s=input(\"Enter a string: \",)\n",
    "print(count_vowels(s))\n"
   ]
  },
  {
   "cell_type": "code",
   "execution_count": 9,
   "id": "5d80a712-18da-42fe-b058-0b75f51bce07",
   "metadata": {},
   "outputs": [
    {
     "name": "stdout",
     "output_type": "stream",
     "text": [
      "True\n",
      "False\n"
     ]
    }
   ],
   "source": [
    "'''\n",
    "7. String Palindrome Check:\n",
    "Write a function that checks if a given string is a palindrome (reads the same backward as \n",
    "forward).\n",
    "'''\n",
    "def is_palindrome(s):\n",
    "    return s == s[::-1]\n",
    "print(is_palindrome(\"TENET\"))\n",
    "print(is_palindrome(\"hello\"))"
   ]
  },
  {
   "cell_type": "code",
   "execution_count": 11,
   "id": "5e39cabd-98b0-444c-bac7-2a2d86ea8911",
   "metadata": {},
   "outputs": [
    {
     "name": "stdin",
     "output_type": "stream",
     "text": [
      "Enter a string:  Techonologia\n"
     ]
    },
    {
     "name": "stdout",
     "output_type": "stream",
     "text": [
      "Modified string: Techonologiz\n"
     ]
    }
   ],
   "source": [
    "'''\n",
    "8. String Replace:\n",
    "Create a program that takes a string and replaces all occurrences of the letter 'a' with 'z'\n",
    "'''\n",
    "\n",
    "text = input(\"Enter a string: \")\n",
    "\n",
    "replaced_text = text.replace('a', 'z')\n",
    "\n",
    "print(\"Modified string:\", replaced_text)\n"
   ]
  },
  {
   "cell_type": "code",
   "execution_count": 15,
   "id": "484b3efb-5e8f-4336-baaf-e280034429e4",
   "metadata": {},
   "outputs": [
    {
     "data": {
      "text/plain": [
       "'\\n9. String Contains Substring:\\nWrite a function that takes two strings as input and checks if the second string is a substring \\nof the first.\\n'"
      ]
     },
     "execution_count": 15,
     "metadata": {},
     "output_type": "execute_result"
    }
   ],
   "source": [
    "'''\n",
    "9. String Contains Substring:\n",
    "Write a function that takes two strings as input and checks if the second string is a substring \n",
    "of the first.\n",
    "'''"
   ]
  },
  {
   "cell_type": "code",
   "execution_count": 17,
   "id": "cfabc4eb-826f-423e-a0ba-b358b727c991",
   "metadata": {},
   "outputs": [
    {
     "name": "stdin",
     "output_type": "stream",
     "text": [
      "Enter a string:  classroom\n",
      "Enter a character to count:  s\n"
     ]
    },
    {
     "name": "stdout",
     "output_type": "stream",
     "text": [
      "The character 's' appears 2 time(s) in the string.\n"
     ]
    }
   ],
   "source": [
    "'''\n",
    "10. String Count:\n",
    "Create a program that takes a string and a character as input, and prints the number of times \n",
    "the character appears in the string.\n",
    "'''\n",
    "text = input(\"Enter a string: \")\n",
    "char = input(\"Enter a character to count: \")\n",
    "\n",
    "count = text.count(char)\n",
    "print(f\"The character '{char}' appears {count} time(s) in the string.\")\n"
   ]
  },
  {
   "cell_type": "code",
   "execution_count": 19,
   "id": "dc651aca-8b3a-4c8e-b08c-8a6d72bf582b",
   "metadata": {},
   "outputs": [
    {
     "name": "stdin",
     "output_type": "stream",
     "text": [
      "Enter a sentence:  pakistan has no.1 army\n"
     ]
    },
    {
     "name": "stdout",
     "output_type": "stream",
     "text": [
      "Capitalized sentence: Pakistan Has No.1 Army\n"
     ]
    }
   ],
   "source": [
    "'''\n",
    "11. String Capitalization:\n",
    "Write a program that takes a sentence as input and prints it with the first letter of each word \n",
    "capitalized.\n",
    "'''\n",
    "sentence = input(\"Enter a sentence: \")\n",
    "\n",
    "capitalized_sentence = sentence.title()\n",
    "\n",
    "print(\"Capitalized sentence:\", capitalized_sentence)\n"
   ]
  },
  {
   "cell_type": "code",
   "execution_count": 21,
   "id": "d3be769c-7049-4214-bd0d-8bc634bc9fc0",
   "metadata": {},
   "outputs": [
    {
     "name": "stdin",
     "output_type": "stream",
     "text": [
      "Enter your name:  world\n"
     ]
    },
    {
     "name": "stdout",
     "output_type": "stream",
     "text": [
      "Hello, world!\n"
     ]
    }
   ],
   "source": [
    "'''\n",
    "12. String Formatting:\n",
    "Create a program that formats a given string with placeholder values. For example, given \n",
    "\"Hello, {}!\", input a name to replace the placeholder\n",
    "'''\n",
    "template = \"Hello, {}!\"\n",
    "\n",
    "name = input(\"Enter your name: \")\n",
    "\n",
    "formatted_string = template.format(name)\n",
    "\n",
    "print(formatted_string)\n"
   ]
  },
  {
   "cell_type": "code",
   "execution_count": 7,
   "id": "58f07bf8-f1dd-4312-a92f-7b7d70c83bd3",
   "metadata": {},
   "outputs": [
    {
     "name": "stdin",
     "output_type": "stream",
     "text": [
      "Enter a string :  s400 air defence system\n"
     ]
    },
    {
     "name": "stdout",
     "output_type": "stream",
     "text": [
      "metsys ecnefed ria 004s\n"
     ]
    }
   ],
   "source": [
    "'''\n",
    "13. String Reverse:\n",
    "Write a function that takes a string as input and prints it in reverse order\n",
    "'''\n",
    "def reverse_string(s):\n",
    "    reversed_s = s[::-1]\n",
    "    return(reversed_s)\n",
    "\n",
    "text = input('Enter a string : ',)\n",
    "print(reverse_string(text))\n"
   ]
  },
  {
   "cell_type": "code",
   "execution_count": 9,
   "id": "3211b471-722a-452a-abf4-3761afdf86c8",
   "metadata": {},
   "outputs": [
    {
     "name": "stdout",
     "output_type": "stream",
     "text": [
      "Justice is served\n"
     ]
    }
   ],
   "source": [
    "'''\n",
    "14. String Join:\n",
    "Create a program that takes a list of words and joins them into a single string separated by \n",
    "spaces.\n",
    "'''\n",
    "def join_words(word_list):\n",
    "    return ' '.join(word_list)\n",
    "\n",
    "words = [\"Justice\", \"is\", \"served\"]\n",
    "result = join_words(words)\n",
    "print(result)\n"
   ]
  },
  {
   "cell_type": "code",
   "execution_count": 11,
   "id": "fc889042-942f-4b4f-9728-6996ebba6025",
   "metadata": {},
   "outputs": [
    {
     "name": "stdin",
     "output_type": "stream",
     "text": [
      "Enter a string:  Rafale\n"
     ]
    },
    {
     "name": "stdout",
     "output_type": "stream",
     "text": [
      "Last character: e\n"
     ]
    }
   ],
   "source": [
    "'''\n",
    "15. String Indexing:\n",
    "Write a program that takes a string as input and prints the last character.\n",
    "'''\n",
    "def print_last_character(s):\n",
    "    print(\"Last character:\", s[-1])\n",
    "        \n",
    "text = input(\"Enter a string: \")\n",
    "print_last_character(text)"
   ]
  },
  {
   "cell_type": "code",
   "execution_count": 13,
   "id": "6d277038-9903-45e7-ae0f-1f778e9bf6f8",
   "metadata": {},
   "outputs": [
    {
     "name": "stdin",
     "output_type": "stream",
     "text": [
      "Enter a string : asaWDVFsa\n"
     ]
    },
    {
     "name": "stdout",
     "output_type": "stream",
     "text": [
      "Uppercase letters count: 4\n"
     ]
    }
   ],
   "source": [
    "'''\n",
    "17. String Uppercase Count:\n",
    "Write a function that takes a string as input and returns the count of uppercase letters in the \n",
    "string.\n",
    "'''\n",
    "def count_uppercase(s):\n",
    "    count = 0\n",
    "    for char in s:\n",
    "        if char.isupper():\n",
    "            count += 1\n",
    "    return count\n",
    "text = input('Enter a string :',)\n",
    "print(\"Uppercase letters count:\", count_uppercase(text))"
   ]
  },
  {
   "cell_type": "code",
   "execution_count": 17,
   "id": "f634cd42-6187-4663-a7e3-d7719b35571c",
   "metadata": {},
   "outputs": [
    {
     "name": "stdin",
     "output_type": "stream",
     "text": [
      "Enter a string:  dwdj sd we gere ssgfg\n"
     ]
    },
    {
     "name": "stdout",
     "output_type": "stream",
     "text": [
      "('Title case:', 'Dwdj Sd We Gere Ssgfg')\n"
     ]
    }
   ],
   "source": [
    "'''\n",
    "18. String Title Case:\n",
    "Create a program that takes a string as input and prints it in title case (the first letter of each \n",
    "word capitalized)\n",
    "'''\n",
    "def title_case(s):\n",
    "    title_cased = s.title()\n",
    "    return(\"Title case:\", title_cased)\n",
    "\n",
    "text = input(\"Enter a string: \")\n",
    "print(title_case(text))\n"
   ]
  },
  {
   "cell_type": "code",
   "execution_count": 19,
   "id": "904f3823-8c29-44e7-b54b-afdabb3c4ee3",
   "metadata": {},
   "outputs": [
    {
     "name": "stdin",
     "output_type": "stream",
     "text": [
      "Enter a string:  sasF KJHGhUU JHG UHghh\n"
     ]
    },
    {
     "name": "stdout",
     "output_type": "stream",
     "text": [
      "Swapped case: SASf kjhgHuu jhg uhGHH\n"
     ]
    }
   ],
   "source": [
    "'''\n",
    "19. String Swap Case:\n",
    "Write a function that takes a string as input and returns a new string with the case of each \n",
    "letter swapped (e.g., 'a' becomes 'A' and vice versa).\n",
    "'''\n",
    "def swap_case(s):\n",
    "    return s.swapcase()\n",
    "\n",
    "text = input(\"Enter a string: \")\n",
    "print(\"Swapped case:\", swap_case(text))\n"
   ]
  },
  {
   "cell_type": "code",
   "execution_count": 29,
   "id": "51ff76a9-b47a-4100-8d9d-410e5b54c7c1",
   "metadata": {},
   "outputs": [
    {
     "name": "stdin",
     "output_type": "stream",
     "text": [
      "Enter a sentence:  Operation Sindoor is not completed yet.\n"
     ]
    },
    {
     "name": "stdout",
     "output_type": "stream",
     "text": [
      "Operation\n",
      "Sindoor\n",
      "is\n",
      "not\n",
      "completed\n",
      "yet.\n"
     ]
    }
   ],
   "source": [
    "'''\n",
    "20. String Split:\n",
    "Create a program that takes a sentence as input and prints each word on a new line using the \n",
    "split method.\n",
    "'''\n",
    "sentence = input(\"Enter a sentence: \")\n",
    "w = sentence.split()\n",
    "for i in w:\n",
    "    print(i)\n"
   ]
  }
 ],
 "metadata": {
  "kernelspec": {
   "display_name": "Python [conda env:base] *",
   "language": "python",
   "name": "conda-base-py"
  },
  "language_info": {
   "codemirror_mode": {
    "name": "ipython",
    "version": 3
   },
   "file_extension": ".py",
   "mimetype": "text/x-python",
   "name": "python",
   "nbconvert_exporter": "python",
   "pygments_lexer": "ipython3",
   "version": "3.12.7"
  }
 },
 "nbformat": 4,
 "nbformat_minor": 5
}
