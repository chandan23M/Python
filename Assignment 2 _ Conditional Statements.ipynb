{
 "cells": [
  {
   "cell_type": "code",
   "execution_count": 5,
   "id": "91ccf9e1-f230-473f-a491-c93c45ae1984",
   "metadata": {},
   "outputs": [
    {
     "name": "stdin",
     "output_type": "stream",
     "text": [
      "Enter the 1st number:  3.8\n",
      "Enter the 2nd number:  8.7\n"
     ]
    },
    {
     "name": "stdout",
     "output_type": "stream",
     "text": [
      "Sum of Num1 and Num2 is: 12.5\n"
     ]
    }
   ],
   "source": [
    "#1. Write a Python program that takes two numbers as input and calculates their sum.\n",
    "Num1=float(input('Enter the 1st number: '))\n",
    "Num2=float(input('Enter the 2nd number: '))\n",
    "print('Sum of Num1 and Num2 is:',Num1+Num2)"
   ]
  },
  {
   "cell_type": "code",
   "execution_count": 39,
   "id": "00acb512-acfa-4795-bb80-698364b684d6",
   "metadata": {},
   "outputs": [
    {
     "name": "stdin",
     "output_type": "stream",
     "text": [
      "Enter the number:  4\n"
     ]
    },
    {
     "name": "stdout",
     "output_type": "stream",
     "text": [
      "Positive Number\n",
      "Even Number\n"
     ]
    }
   ],
   "source": [
    "#2. Write a Python program that checks if a given number is even or odd and prints an appropriate message.\n",
    "\n",
    "Num=int(input('Enter the number: '))\n",
    "if Num>=0:\n",
    "    print(\"Positive Number\")\n",
    "    if(Num%2==0):\n",
    "        print(\"Even Number\")\n",
    "    else:\n",
    "        print(\"Odd Number\")\n",
    "else:\n",
    "    print(\"Negative Number\")"
   ]
  },
  {
   "cell_type": "code",
   "execution_count": 55,
   "id": "998356d7-e751-45f4-b25c-ea6beee3ad2c",
   "metadata": {},
   "outputs": [
    {
     "name": "stdin",
     "output_type": "stream",
     "text": [
      "Enter your age:  900\n"
     ]
    },
    {
     "name": "stdout",
     "output_type": "stream",
     "text": [
      "You are God\n"
     ]
    }
   ],
   "source": [
    "'''\n",
    "3. Write a Python program that takes a user's age as input and prints \"You are a minor\" \n",
    "#if the age is less than 18, \"You are an adult\" if the age is 18 or older but less than 65, \n",
    "#and \"You are a senior\" if the age is 65 or older\n",
    "'''\n",
    "\n",
    "age=int(input('Enter your age: '))\n",
    "if age>=65 and age<110:\n",
    "    print(\"You are a senior\")\n",
    "elif age>=18 and age<65:\n",
    "     print(\"You are an adult\")\n",
    "elif age>0 and age<18:\n",
    "    print(\"You are a minor\")\n",
    "else:\n",
    "    print(\"You are God\")"
   ]
  },
  {
   "cell_type": "code",
   "execution_count": 73,
   "id": "f4cf1532-7544-47e5-acd1-a78d345c6c00",
   "metadata": {},
   "outputs": [
    {
     "name": "stdin",
     "output_type": "stream",
     "text": [
      "Enter the length:  5\n",
      "Enter the width:  7\n"
     ]
    },
    {
     "name": "stdout",
     "output_type": "stream",
     "text": [
      "The area of a rectangle is : 35.0\n"
     ]
    }
   ],
   "source": [
    "'''\n",
    "4. Write a Python program that calculates the area of a rectangle. It should take\n",
    "#the length and width as input from the user.\n",
    "'''\n",
    "\n",
    "length=float(input('Enter the length: '))\n",
    "width=float(input('Enter the width: '))\n",
    "print(\"The area of a rectangle is :\",length*width)"
   ]
  },
  {
   "cell_type": "code",
   "execution_count": 7,
   "id": "a0bc5a3a-8c99-4efc-8b9e-9db02373eb37",
   "metadata": {},
   "outputs": [
    {
     "name": "stdin",
     "output_type": "stream",
     "text": [
      "Enter a year:  2025\n"
     ]
    },
    {
     "name": "stdout",
     "output_type": "stream",
     "text": [
      "Its not a leap year\n"
     ]
    }
   ],
   "source": [
    "'''5. Write a Python program that checks if a given year is a leap year. A leap year is\n",
    "a year that is divisible by 4 but not divisible by 100, except if it is also divisible\n",
    "by 400.'''\n",
    "\n",
    "year=int(input(\"Enter a year: \"))\n",
    "if (year%4==0 and year%100!=0) or (year%400==0):\n",
    "    print(\"Its a leap Year\")\n",
    "else: \n",
    "    print(\"Its not a leap year\")"
   ]
  },
  {
   "cell_type": "code",
   "execution_count": 19,
   "id": "9643ab5c-5ddf-4376-88db-c49d7466c373",
   "metadata": {},
   "outputs": [
    {
     "name": "stdin",
     "output_type": "stream",
     "text": [
      "Enter your score:  86\n"
     ]
    },
    {
     "name": "stdout",
     "output_type": "stream",
     "text": [
      "B\n"
     ]
    }
   ],
   "source": [
    "'''\n",
    "6. Write a Python program that takes a user's score as input and assigns a letter\n",
    "grade based on the following grading scale:\n",
    "- A: 90-100\n",
    "- B: 80-89\n",
    "- C: 70-79\n",
    "- D: 60-69\n",
    "- F: Below 60\n",
    "'''\n",
    "\n",
    "score=int(input(\"Enter your score: \"))\n",
    "if (score>=90 and score<=100):\n",
    "    print(\"A\")\n",
    "elif (score>=80 and score<=89):\n",
    "    print(\"B\")\n",
    "elif (score>=70 and score<=79):\n",
    "    print(\"C\")\n",
    "elif (score>=60 and score<=69):\n",
    "    print(\"D\")\n",
    "elif (score<60 and score>=0):\n",
    "    print(\"F\")\n",
    "else: print(\"Wrong value\")\n"
   ]
  },
  {
   "cell_type": "code",
   "execution_count": 25,
   "id": "a37c0c43-026a-479f-a407-aa01d5ce41dd",
   "metadata": {},
   "outputs": [
    {
     "name": "stdin",
     "output_type": "stream",
     "text": [
      "Enter your name:  Mr. Roy\n",
      "enter your age:  34\n"
     ]
    },
    {
     "name": "stdout",
     "output_type": "stream",
     "text": [
      "Hello Mr. Roy, Welcome\n"
     ]
    }
   ],
   "source": [
    "'''\n",
    "7. Write a Python program that asks the user for their name and age. If the user's\n",
    "age is less than 13, print \"Sorry, you are not eligible for this service.\"\n",
    "Otherwise, print a greeting message with their name.\n",
    "'''\n",
    "\n",
    "name=input(\"Enter your name: \")\n",
    "age=int(input(\"enter your age: \"))\n",
    "\n",
    "if age<13:\n",
    "    print(\"Sorry, you are not eligible for this service.\")\n",
    "else:\n",
    "    print(f\"Hello {name}, Welcome\")\n",
    "\n"
   ]
  },
  {
   "cell_type": "code",
   "execution_count": 31,
   "id": "8859f445-c69c-4f55-98c1-a484eb57e8c0",
   "metadata": {},
   "outputs": [
    {
     "name": "stdin",
     "output_type": "stream",
     "text": [
      "Enter a number:  -4\n"
     ]
    },
    {
     "name": "stdout",
     "output_type": "stream",
     "text": [
      "The number is negative.\n"
     ]
    }
   ],
   "source": [
    "'''\n",
    "8. Write a Python program that takes a number as input and checks if it is\n",
    "positive, negative, or zero. Print an appropriate message based on the input.\n",
    "'''\n",
    "num = float(input(\"Enter a number: \"))\n",
    "\n",
    "if num > 0:\n",
    "    print(\"The number is positive.\")\n",
    "elif num < 0:\n",
    "    print(\"The number is negative.\")\n",
    "else:\n",
    "    print(\"The number is zero.\")\n",
    "\n"
   ]
  },
  {
   "cell_type": "code",
   "execution_count": null,
   "id": "36e62a64-08f7-44ee-9719-36268558f1dd",
   "metadata": {},
   "outputs": [],
   "source": [
    "'''\n",
    "9. Write a Python program that calculates the factorial of a given number. The\n",
    "factorial of a non-negative integer n is the product of all positive integers less\n",
    "than or equal to n.\n",
    "'''"
   ]
  },
  {
   "cell_type": "code",
   "execution_count": null,
   "id": "bbd360ab-c43a-4f50-95f7-4952d8da19e5",
   "metadata": {},
   "outputs": [],
   "source": [
    "'''\n",
    "10. Write a Python program that checks if a given string is a palindrome. A\n",
    "palindrome is a word, phrase, number, or other sequence of characters that\n",
    "reads the same forward and backward (ignoring spaces, punctuation, and\n",
    "capitalization).\n",
    "'''\n",
    "\n"
   ]
  }
 ],
 "metadata": {
  "kernelspec": {
   "display_name": "Python [conda env:base] *",
   "language": "python",
   "name": "conda-base-py"
  },
  "language_info": {
   "codemirror_mode": {
    "name": "ipython",
    "version": 3
   },
   "file_extension": ".py",
   "mimetype": "text/x-python",
   "name": "python",
   "nbconvert_exporter": "python",
   "pygments_lexer": "ipython3",
   "version": "3.12.7"
  }
 },
 "nbformat": 4,
 "nbformat_minor": 5
}
