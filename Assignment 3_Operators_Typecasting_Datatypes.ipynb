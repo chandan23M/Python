{
 "cells": [
  {
   "cell_type": "code",
   "execution_count": 1,
   "id": "82d33a97-a93e-495f-b5b1-d76e7857c7d3",
   "metadata": {},
   "outputs": [
    {
     "name": "stdout",
     "output_type": "stream",
     "text": [
      "5\n"
     ]
    }
   ],
   "source": [
    "#1. Declare an integer variable x with the value 5. Print the value of x.\n",
    "x=5\n",
    "print(x)"
   ]
  },
  {
   "cell_type": "code",
   "execution_count": 5,
   "id": "d99c562f-4ba8-4b24-814b-52290bd6f3c0",
   "metadata": {},
   "outputs": [
    {
     "name": "stdout",
     "output_type": "stream",
     "text": [
      "3.14\n",
      "<class 'float'>\n"
     ]
    }
   ],
   "source": [
    "#2. Create a floating-point variable y with the value 3.14. Print the value of y.\n",
    "y=3.14\n",
    "print(y)\n",
    "print(type(y))"
   ]
  },
  {
   "cell_type": "code",
   "execution_count": 9,
   "id": "ff0bdd62-b9ce-410d-97c3-6ca1418d2c6d",
   "metadata": {},
   "outputs": [
    {
     "name": "stdout",
     "output_type": "stream",
     "text": [
      "123\n"
     ]
    }
   ],
   "source": [
    "#3. Convert the string \"123\" to an integer and store it in a variable num.\n",
    "num=int('123')\n",
    "print(num)"
   ]
  },
  {
   "cell_type": "code",
   "execution_count": 11,
   "id": "c85aa361-fb48-40e8-8a0d-2ccfcd9b2d88",
   "metadata": {},
   "outputs": [
    {
     "name": "stdout",
     "output_type": "stream",
     "text": [
      "42\n"
     ]
    }
   ],
   "source": [
    "#4. Convert the integer 42 to a string and store it in a variable str_num.\n",
    "    \n",
    "str_num=str(42)\n",
    "print(str_num)"
   ]
  },
  {
   "cell_type": "code",
   "execution_count": 17,
   "id": "9277bd49-aa13-4a05-863e-3adca1694ab7",
   "metadata": {},
   "outputs": [
    {
     "name": "stdin",
     "output_type": "stream",
     "text": [
      "Enter a number:  5\n"
     ]
    },
    {
     "name": "stdout",
     "output_type": "stream",
     "text": [
      "The number is not both positive and even.\n"
     ]
    }
   ],
   "source": [
    "#5. Write a Python program that checks if a number entered by the user is both positive and even using the and operator.\n",
    "\n",
    "num = int(input(\"Enter a number: \"))\n",
    "\n",
    "if num > 0 and num % 2 == 0:\n",
    "    print(\"The number is positive and even.\")\n",
    "else:\n",
    "    print(\"The number is not both positive and even.\")"
   ]
  },
  {
   "cell_type": "code",
   "execution_count": 21,
   "id": "97b022d0-af4b-4b4d-8488-38928a1295a6",
   "metadata": {},
   "outputs": [
    {
     "name": "stdin",
     "output_type": "stream",
     "text": [
      "Enter a character:  8\n"
     ]
    },
    {
     "name": "stdout",
     "output_type": "stream",
     "text": [
      "The character is either an uppercase letter or a digit.\n"
     ]
    }
   ],
   "source": [
    "#6. Create a Python program that checks if a character entered by the user is either an uppercase letter or a digit using the or operator.\n",
    "\n",
    "\n",
    "char = input(\"Enter a character: \")\n",
    "\n",
    "if char.isupper() or char.isdigit():\n",
    "    print(\"The character is either an uppercase letter or a digit.\")\n",
    "else:\n",
    "    print(\"The character is neither an uppercase letter or a digit.\")\n",
    "\n"
   ]
  },
  {
   "cell_type": "code",
   "execution_count": 25,
   "id": "600b731a-ddbe-40a3-a793-4320cccb639f",
   "metadata": {},
   "outputs": [
    {
     "name": "stdin",
     "output_type": "stream",
     "text": [
      "Enter a string:  \n"
     ]
    },
    {
     "name": "stdout",
     "output_type": "stream",
     "text": [
      "The string is empty.\n"
     ]
    }
   ],
   "source": [
    "#7. Write a Python program that checks if a user-entered string is not empty using the not operator.\n",
    "\n",
    "\n",
    "user_input = input(\"Enter a string: \")\n",
    "\n",
    "if not user_input == \"\":\n",
    "    print(\"The string is not empty.\")\n",
    "else:\n",
    "    print(\"The string is empty.\")\n"
   ]
  },
  {
   "cell_type": "code",
   "execution_count": 29,
   "id": "8be03fba-d578-4c18-a18c-efd8f39e48e7",
   "metadata": {},
   "outputs": [
    {
     "name": "stdin",
     "output_type": "stream",
     "text": [
      "Enter a number:  15\n"
     ]
    },
    {
     "name": "stdout",
     "output_type": "stream",
     "text": [
      "The number is either divisible by both or by neither.\n"
     ]
    }
   ],
   "source": [
    "#8. Create a Python program that checks if a number entered by the user is divisible by either 3 or 5 but not both\n",
    "\n",
    "num = int(input(\"Enter a number: \"))\n",
    "\n",
    "if (num % 3 == 0 or num % 5 == 0) and not (num % 3 == 0 and num % 5 == 0):\n",
    "    print(\"The number is divisible by either 3 or 5, but not both.\")\n",
    "else:\n",
    "    print(\"The number is either divisible by both or by neither.\")\n"
   ]
  },
  {
   "cell_type": "code",
   "execution_count": 39,
   "id": "7b528795-4518-44a4-93ab-c7f3810923fa",
   "metadata": {},
   "outputs": [
    {
     "name": "stdin",
     "output_type": "stream",
     "text": [
      "Enter the student's score:  -90\n"
     ]
    },
    {
     "name": "stdout",
     "output_type": "stream",
     "text": [
      "Invalid score.\n"
     ]
    }
   ],
   "source": [
    "#9. Write a Python program that checks if a student's score is between 0 and 100 (inclusive) using logical operators. If it is, print \"Valid score,\" otherwise, print \"Invalid score.\"\n",
    "\n",
    "score = int(input(\"Enter the student's score: \"))\n",
    "\n",
    "if score >= 0 and score <= 100:\n",
    "    print(\"Valid score.\")\n",
    "else:\n",
    "    print(\"Invalid score.\")\n",
    "\n"
   ]
  },
  {
   "cell_type": "code",
   "execution_count": 53,
   "id": "55bff2b5-2515-44a6-8c25-3578d3776414",
   "metadata": {},
   "outputs": [
    {
     "name": "stdin",
     "output_type": "stream",
     "text": [
      "Enter your age:  26\n"
     ]
    },
    {
     "name": "stdout",
     "output_type": "stream",
     "text": [
      "You are eligible for work.\n"
     ]
    }
   ],
   "source": [
    "#10. Create a Python program that asks the user for their age. If their age is between 18 and 65 (inclusive), print \"You are eligible for work,\" otherwise, print \"You are not eligible for work.\n",
    "\n",
    "\n",
    "age = int(input(\"Enter your age: \"))\n",
    "\n",
    "if age >= 18 and age <= 65:\n",
    "    print(\"You are eligible for work.\")\n",
    "else:\n",
    "    print(\"You are not eligible for work.\")"
   ]
  },
  {
   "cell_type": "code",
   "execution_count": 1,
   "id": "0a1c3d0c-a40a-4889-8c59-070114a74d09",
   "metadata": {},
   "outputs": [
    {
     "name": "stdin",
     "output_type": "stream",
     "text": [
      "Enter a number:  7\n"
     ]
    },
    {
     "name": "stdout",
     "output_type": "stream",
     "text": [
      "The doubled number is: 14\n"
     ]
    }
   ],
   "source": [
    "#11. Write a Python program that takes a number as input from the user and doubles it using the *= assignment operator. Print the result.\n",
    "\n",
    "\n",
    "num = int(input(\"Enter a number: \"))\n",
    "\n",
    "num *= 2\n",
    "\n",
    "print(\"The doubled number is:\", num)\n",
    "\n"
   ]
  },
  {
   "cell_type": "code",
   "execution_count": 57,
   "id": "24351a97-a54d-4e3a-a161-33a44e9d56a3",
   "metadata": {},
   "outputs": [
    {
     "name": "stdin",
     "output_type": "stream",
     "text": [
      "Enter value for x:  8\n",
      "Enter value for y:  6\n"
     ]
    },
    {
     "name": "stdout",
     "output_type": "stream",
     "text": [
      "After swapping:\n",
      "x = 6\n",
      "y = 8\n"
     ]
    }
   ],
   "source": [
    "#12. Write a Python program to swap the values of two variables x and y without using a temporary variable, using assignment operators.\n",
    "\n",
    "\n",
    "\n",
    "x = int(input(\"Enter value for x: \"))\n",
    "y = int(input(\"Enter value for y: \"))\n",
    "\n",
    "x = x + y\n",
    "y = x - y\n",
    "x = x - y\n",
    "\n",
    "# Print the swapped values\n",
    "print(\"After swapping:\")\n",
    "print(\"x =\", x)\n",
    "print(\"y =\", y)\n"
   ]
  },
  {
   "cell_type": "code",
   "execution_count": 59,
   "id": "467b8d89-83d9-4001-a4cc-843ee41fd1b2",
   "metadata": {},
   "outputs": [
    {
     "name": "stdin",
     "output_type": "stream",
     "text": [
      "Enter the starting number:  4\n"
     ]
    },
    {
     "name": "stdout",
     "output_type": "stream",
     "text": [
      "Current value of x: 8\n",
      "Current value of x: 16\n",
      "Current value of x: 32\n",
      "Current value of x: 64\n",
      "Current value of x: 128\n"
     ]
    }
   ],
   "source": [
    "#13. Implement a Python program that keeps doubling a number x until it reaches or exceeds 100, using assignment operators.\n",
    "\n",
    "\n",
    "x = int(input(\"Enter the starting number: \"))\n",
    "\n",
    "while x < 100:\n",
    "    x *= 2\n",
    "    print(\"Current value of x:\", x)\n",
    "\n"
   ]
  },
  {
   "cell_type": "code",
   "execution_count": 61,
   "id": "d431caca-3e7a-4cf5-9e44-a8783922002d",
   "metadata": {},
   "outputs": [
    {
     "name": "stdin",
     "output_type": "stream",
     "text": [
      "Enter the first number:  6.7\n",
      "Enter the second number:  7.6\n",
      "Enter the third number:  9.8\n"
     ]
    },
    {
     "name": "stdout",
     "output_type": "stream",
     "text": [
      "The average is: 8.033333333333333\n"
     ]
    }
   ],
   "source": [
    "#14. Create a Python program that calculates and prints the average of three numbers entered by the user using the /= assignment operator.\n",
    "\n",
    "num1 = float(input(\"Enter the first number: \"))\n",
    "num2 = float(input(\"Enter the second number: \"))\n",
    "num3 = float(input(\"Enter the third number: \"))\n",
    "\n",
    "total = num1 + num2 + num3\n",
    "\n",
    "total /= 3\n",
    "\n",
    "print(\"The average is:\", total)\n",
    "\n"
   ]
  },
  {
   "cell_type": "code",
   "execution_count": 63,
   "id": "6fa749c3-28e2-4ea5-9e17-3342d8d3880c",
   "metadata": {},
   "outputs": [
    {
     "name": "stdin",
     "output_type": "stream",
     "text": [
      "Enter a number:  12\n"
     ]
    },
    {
     "name": "stdout",
     "output_type": "stream",
     "text": [
      "The square of the number is: 144.0\n"
     ]
    }
   ],
   "source": [
    "#15. Write a Python program that calculates and prints the square of a number entered by the user using the **= assignment operator.\n",
    "\n",
    "num = float(input(\"Enter a number: \"))\n",
    "\n",
    "num **= 2\n",
    "\n",
    "print(\"The square of the number is:\", num)\n",
    "\n"
   ]
  },
  {
   "cell_type": "code",
   "execution_count": 65,
   "id": "7adafd5e-12e5-4162-bb9e-11cede75de43",
   "metadata": {},
   "outputs": [
    {
     "name": "stdin",
     "output_type": "stream",
     "text": [
      "Enter the first string:  asdf\n",
      "Enter the second string:  qweey\n"
     ]
    },
    {
     "name": "stdout",
     "output_type": "stream",
     "text": [
      "The second string is longer than the first string.\n"
     ]
    }
   ],
   "source": [
    "#16. Create a Python program that compares the lengths of two strings entered by the user and prints whether they have the same length, different lengths, or if one is longer than the other.\n",
    "\n",
    "\n",
    "string1 = input(\"Enter the first string: \")\n",
    "string2 = input(\"Enter the second string: \")\n",
    "\n",
    "# Compare the lengths of the strings\n",
    "len1 = len(string1)\n",
    "len2 = len(string2)\n",
    "\n",
    "if len1 == len2:\n",
    "    print(\"Both strings have the same length.\")\n",
    "elif len1 > len2:\n",
    "    print(\"The first string is longer than the second string.\")\n",
    "else:\n",
    "    print(\"The second string is longer than the first string.\")\n",
    "\n"
   ]
  },
  {
   "cell_type": "code",
   "execution_count": 3,
   "id": "4cd70ab3-826c-47c3-beee-fd3f3069de5c",
   "metadata": {},
   "outputs": [
    {
     "name": "stdin",
     "output_type": "stream",
     "text": [
      "Enter a year:  2300\n"
     ]
    },
    {
     "name": "stdout",
     "output_type": "stream",
     "text": [
      "2300 is not a leap year.\n"
     ]
    }
   ],
   "source": [
    "#17. Write a Python program that checks if a given year is a leap year or not, using comparison operators to check divisibility\n",
    "\n",
    "\n",
    "year = int(input(\"Enter a year: \"))\n",
    "\n",
    "if (year % 4 == 0 and year % 100 != 0) or (year % 400 == 0):\n",
    "    print(year, \"is a leap year.\")\n",
    "else:\n",
    "    print(year, \"is not a leap year.\")\n"
   ]
  },
  {
   "cell_type": "code",
   "execution_count": 1,
   "id": "f1c56123-3dc9-458d-8492-fa750f54c669",
   "metadata": {},
   "outputs": [
    {
     "name": "stdout",
     "output_type": "stream",
     "text": [
      "3.5\n"
     ]
    }
   ],
   "source": [
    "#18. Calculate the result of 7 divided by 2 and assign it to a variable result.\n",
    "\n",
    "result=7/2\n",
    "\n",
    "print(result)\n"
   ]
  },
  {
   "cell_type": "code",
   "execution_count": 9,
   "id": "4ad8857e-e38d-472e-9bfd-e576322d32e0",
   "metadata": {},
   "outputs": [
    {
     "name": "stdout",
     "output_type": "stream",
     "text": [
      "2\n"
     ]
    }
   ],
   "source": [
    "#19. Calculate the remainder when 17 is divided by 5 and store it in a variable remainder.\n",
    "\n",
    "remainder=17%5\n",
    "\n",
    "print(remainder)\n"
   ]
  },
  {
   "cell_type": "code",
   "execution_count": 11,
   "id": "c1622e7d-0ac6-450d-9236-a6c8b27b375b",
   "metadata": {},
   "outputs": [
    {
     "name": "stdout",
     "output_type": "stream",
     "text": [
      "The sum of all even numbers between 1 and 50 is: 650\n"
     ]
    }
   ],
   "source": [
    "#20. Write a Python program that calculates the sum of all even numbers between 1 and 50 using arithmetic operators and loops.\n",
    "\n",
    "sum_of_evens = 0\n",
    "\n",
    "for number in range(1, 51):\n",
    "    if number % 2 == 0:\n",
    "        sum_of_evens += number\n",
    "        \n",
    "print(\"The sum of all even numbers between 1 and 50 is:\", sum_of_evens)\n"
   ]
  },
  {
   "cell_type": "code",
   "execution_count": 13,
   "id": "3f9e5e76-636a-4e42-a5d6-3a611ba0a0e4",
   "metadata": {},
   "outputs": [
    {
     "name": "stdin",
     "output_type": "stream",
     "text": [
      "Enter a number:  2\n",
      "Enter a number:  3\n"
     ]
    },
    {
     "name": "stdout",
     "output_type": "stream",
     "text": [
      "5\n"
     ]
    }
   ],
   "source": [
    "#21. Write a Python program that takes two numbers as input from the user and prints their sum.\n",
    "\n",
    "a=int(input('Enter a number: '))\n",
    "b=int(input('Enter a number: '))\n",
    "\n",
    "print(a+b)\n",
    "\n"
   ]
  },
  {
   "cell_type": "code",
   "execution_count": 35,
   "id": "64fe4267-2af4-4bfb-8a82-3cb6fef67e4f",
   "metadata": {},
   "outputs": [
    {
     "name": "stdin",
     "output_type": "stream",
     "text": [
      "enter the 1st number:  80\n",
      "enter the 2nd number:  90\n"
     ]
    },
    {
     "name": "stdout",
     "output_type": "stream",
     "text": [
      "The sum is 100 or more. Please enter the numbers again.\n"
     ]
    },
    {
     "name": "stdin",
     "output_type": "stream",
     "text": [
      "enter the 1st number:  98\n",
      "enter the 2nd number:  1\n"
     ]
    },
    {
     "name": "stdout",
     "output_type": "stream",
     "text": [
      "The sum is:  99\n"
     ]
    }
   ],
   "source": [
    "'''\n",
    "22. Write a Python program that takes two numbers as input from the user, but with a twist. The program \n",
    "should only accept input if the sum of the two numbers is less than 100. If the sum is 100 or greater, the \n",
    "program should ask the user to re-enter both numbers until the sum is less than 100, and then it should \n",
    "print the sum. Using Loop\n",
    "'''\n",
    "\n",
    "while True:\n",
    "    num1=int(input(\"enter the 1st number: \"))\n",
    "    num2=int(input(\"enter the 2nd number: \"))\n",
    "    total=num1+num2\n",
    "    if total<100:\n",
    "        print(\"The sum is: \",total)\n",
    "        break\n",
    "    else:\n",
    "        print(\"The sum is 100 or more. Please enter the numbers again.\")"
   ]
  },
  {
   "cell_type": "code",
   "execution_count": 41,
   "id": "ae6d0413-3003-443f-babe-2d8d3d57c001",
   "metadata": {},
   "outputs": [
    {
     "name": "stdin",
     "output_type": "stream",
     "text": [
      "enter the lenth:  89\n",
      "enter the width:  5\n"
     ]
    },
    {
     "name": "stdout",
     "output_type": "stream",
     "text": [
      "the area of a rectangle is:  445\n"
     ]
    }
   ],
   "source": [
    "'''\n",
    "23. Write a program that calculates and prints the area of a rectangle given its length and width (inputs from \n",
    "the user).\n",
    "'''\n",
    "\n",
    "lenth=int(input(\"enter the lenth: \"))\n",
    "width=int(input(\"enter the width: \"))\n",
    "\n",
    "area=lenth*width\n",
    "print('the area of a rectangle is: ',area)"
   ]
  },
  {
   "cell_type": "code",
   "execution_count": 1,
   "id": "58b797ed-845a-4713-af46-74fa551abc17",
   "metadata": {},
   "outputs": [
    {
     "name": "stdin",
     "output_type": "stream",
     "text": [
      "Enter the first number:  4\n",
      "Enter the second number:  3\n"
     ]
    },
    {
     "name": "stdout",
     "output_type": "stream",
     "text": [
      "Square root of 1st number is:  16.0\n",
      "Square root of 2nd number is:  9.0\n",
      "The datatype of average value is: <class 'float'>\n",
      "The final outcome (remainder) in integer format is: 1\n"
     ]
    }
   ],
   "source": [
    "'''\n",
    "24. Take two number inputs from user.\n",
    "    1. Find out the square of the given two numbers and store the value in different two variables\n",
    "    2. Find out the average of the numbers\n",
    "    3. Find out the datatype of the average value\n",
    "    4. Now find out the remainder of the Average value when the value is divided by 2\n",
    "    5. Print the final outcome in Integer Format\n",
    "    6. Write a Python program that calculates and prints the square root of a given positive number. If \n",
    "    the number is negative, print an error message.\n",
    "'''\n",
    "\n",
    "\n",
    "\n",
    "num1 = float(input(\"Enter the first number: \"))\n",
    "num2 = float(input(\"Enter the second number: \"))\n",
    "\n",
    "square1 = num1 ** 2\n",
    "square2 = num2 ** 2\n",
    "print(\"Square root of 1st number is: \",square1)\n",
    "print(\"Square root of 2nd number is: \",square2)\n",
    "\n",
    "\n",
    "average = (num1 + num2) / 2\n",
    "\n",
    "\n",
    "print(\"The datatype of average value is:\", type(average))\n",
    "\n",
    "# Step 5: Find the remainder of average when divided by 2\n",
    "remainder = average % 2\n",
    "\n",
    "# Step 6: Print the final outcome in integer format\n",
    "print(\"The final outcome (remainder) in integer format is:\", int(remainder))\n",
    "\n",
    "\n"
   ]
  },
  {
   "cell_type": "code",
   "execution_count": null,
   "id": "33f92a8a-530b-4a76-ae92-45006b7fc3c0",
   "metadata": {},
   "outputs": [],
   "source": [
    "#25. What is the result of 10 / 3 and 10//3 in Python, and why?\n",
    "\n",
    "\n",
    "'''\n",
    "1. 10/3 #outout: 3.33333333333333333\n",
    "- This is true division also called float division.\n",
    "- It gives the division result as a floating-point number.\n",
    "'''\n",
    "print(10/3)\n",
    "\n",
    "'''\n",
    "2. 10//3 #output: 3\n",
    "- This is floor division\n",
    "- its divides and then round down to the nearest whole number.\n",
    "'''\n",
    "print(10//3)\n",
    "\n"
   ]
  },
  {
   "cell_type": "code",
   "execution_count": null,
   "id": "d9219d8a-f203-4edd-9e9b-f6c75bf75b8e",
   "metadata": {},
   "outputs": [],
   "source": [
    "#26. Explain the difference between = and == in Python.\n",
    "\n",
    "'''\n",
    "= (single equals)\n",
    "- This is assisnment operator.\n",
    "- its assigns a value to a variable\n",
    "- example: x=5 # assign the value 5 to the variable x\n",
    "\n",
    "== (Double equals)\n",
    "- This is comparison operator.\n",
    "- It checks if two values are equal and return True or False.\n",
    "- Example: x=5\n",
    "           print(x==5) #output: True\n",
    "           print(x==3) #output: False\n",
    "'''\n"
   ]
  }
 ],
 "metadata": {
  "kernelspec": {
   "display_name": "Python [conda env:base] *",
   "language": "python",
   "name": "conda-base-py"
  },
  "language_info": {
   "codemirror_mode": {
    "name": "ipython",
    "version": 3
   },
   "file_extension": ".py",
   "mimetype": "text/x-python",
   "name": "python",
   "nbconvert_exporter": "python",
   "pygments_lexer": "ipython3",
   "version": "3.12.7"
  }
 },
 "nbformat": 4,
 "nbformat_minor": 5
}
