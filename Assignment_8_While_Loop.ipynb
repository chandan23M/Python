{
 "cells": [
  {
   "cell_type": "code",
   "execution_count": 1,
   "metadata": {
    "colab": {
     "base_uri": "https://localhost:8080/"
    },
    "id": "tRyR1n1pEwMO",
    "outputId": "ca86fb5d-275d-4408-8790-c7da7aa02ccb"
   },
   "outputs": [
    {
     "name": "stdout",
     "output_type": "stream",
     "text": [
      "1\n",
      "2\n",
      "3\n",
      "4\n",
      "5\n",
      "6\n",
      "7\n",
      "8\n",
      "9\n",
      "10\n"
     ]
    }
   ],
   "source": [
    "#1. Write a program that prints the numbers from 1 to 10 using a while loop.\n",
    "i=1\n",
    "while i<11:\n",
    "  print(i)\n",
    "  i+=1"
   ]
  },
  {
   "cell_type": "code",
   "execution_count": 4,
   "metadata": {
    "colab": {
     "base_uri": "https://localhost:8080/"
    },
    "id": "8ysw_CI-F4Gr",
    "outputId": "6afe25f6-770b-454f-b084-9484f472edf1"
   },
   "outputs": [
    {
     "name": "stdout",
     "output_type": "stream",
     "text": [
      "The even numbers from 2 to 20 are :\n",
      "2\n",
      "4\n",
      "6\n",
      "8\n",
      "10\n",
      "12\n",
      "14\n",
      "16\n",
      "18\n",
      "20\n"
     ]
    }
   ],
   "source": [
    "#2. Write a program that prints the even numbers from 2 to 20 using a while loop.\n",
    "i=1\n",
    "print('The even numbers from 2 to 20 are :')\n",
    "while i<21:\n",
    "  if i%2==0:\n",
    "    print(i)\n",
    "  i+=1"
   ]
  },
  {
   "cell_type": "code",
   "execution_count": 5,
   "metadata": {
    "colab": {
     "base_uri": "https://localhost:8080/"
    },
    "id": "I-zNvzx_F4KB",
    "outputId": "e67409d1-29e5-4fc6-cded-cd89bb8867b1"
   },
   "outputs": [
    {
     "name": "stdout",
     "output_type": "stream",
     "text": [
      "The odd numbers from 1 to 19 are :\n",
      "1\n",
      "3\n",
      "5\n",
      "7\n",
      "9\n",
      "11\n",
      "13\n",
      "15\n",
      "17\n",
      "19\n"
     ]
    }
   ],
   "source": [
    "#3. Write a program that prints the odd numbers from 1 to 19 using a while loop.\n",
    "i=1\n",
    "print('The odd numbers from 1 to 19 are :')\n",
    "while i<20:\n",
    "  if i%2==1:\n",
    "    print(i)\n",
    "  i+=1"
   ]
  },
  {
   "cell_type": "code",
   "execution_count": 10,
   "metadata": {
    "colab": {
     "base_uri": "https://localhost:8080/"
    },
    "id": "AmxzJ0QwF4NJ",
    "outputId": "6059706f-613e-4544-e4c5-f25fc8a2a31a"
   },
   "outputs": [
    {
     "name": "stdout",
     "output_type": "stream",
     "text": [
      "1\n",
      "1\n",
      "2\n",
      "3\n",
      "5\n",
      "8\n",
      "13\n",
      "21\n",
      "34\n",
      "55\n"
     ]
    }
   ],
   "source": [
    "#4. Write a program that prints the first 10 numbers of the Fibonacci sequence using a while loop.\n",
    "i=0\n",
    "j=1\n",
    "count=0\n",
    "while count<10:\n",
    "  i ,j = j, i+j\n",
    "  print(i)\n",
    "  count+=1"
   ]
  },
  {
   "cell_type": "code",
   "execution_count": 11,
   "metadata": {
    "colab": {
     "base_uri": "https://localhost:8080/"
    },
    "id": "D3nz8VYKF4P0",
    "outputId": "1389be0d-1ebe-45e8-d080-b40c0fdae911"
   },
   "outputs": [
    {
     "name": "stdout",
     "output_type": "stream",
     "text": [
      "Enter a number to print its multiplication table : 6\n",
      "6 x 1 = 6\n",
      "6 x 2 = 12\n",
      "6 x 3 = 18\n",
      "6 x 4 = 24\n",
      "6 x 5 = 30\n",
      "6 x 6 = 36\n",
      "6 x 7 = 42\n",
      "6 x 8 = 48\n",
      "6 x 9 = 54\n",
      "6 x 10 = 60\n"
     ]
    }
   ],
   "source": [
    "#5. Write a program that prints the multiplication table of a given number using a while loop.\n",
    "i=int(input('Enter a number to print its multiplication table : '))\n",
    "count=1\n",
    "while count<11:\n",
    "  print(f'{i} x {count} = {i*count}')\n",
    "  count+=1"
   ]
  },
  {
   "cell_type": "code",
   "execution_count": 16,
   "metadata": {
    "colab": {
     "base_uri": "https://localhost:8080/"
    },
    "id": "AJtbMKXuF4SJ",
    "outputId": "193dc1e7-4f85-4914-8718-e771c719c91a"
   },
   "outputs": [
    {
     "name": "stdout",
     "output_type": "stream",
     "text": [
      "Enter a number to print its sum of digits : 234\n",
      "the sum of the digits 0 is : 9\n"
     ]
    }
   ],
   "source": [
    "#6. Write a program that prints the sum of the digits of a given number using a while loop.\n",
    "i=int(input('Enter a number to print its sum of digits : '))\n",
    "sum=0\n",
    "while i>0:\n",
    "  sum+=i%10\n",
    "  i=i//10\n",
    "print(f'the sum of the digits {i} is :',sum)"
   ]
  },
  {
   "cell_type": "code",
   "execution_count": 3,
   "metadata": {
    "id": "J3XgVN6fF4Ux"
   },
   "outputs": [
    {
     "name": "stdin",
     "output_type": "stream",
     "text": [
      "Enter a number to print its reverse :  56\n"
     ]
    },
    {
     "name": "stdout",
     "output_type": "stream",
     "text": [
      "Reversed number: 65\n"
     ]
    }
   ],
   "source": [
    "#7. Write a program that prints the reverse of a given number using a while loop.\n",
    "num=int(input('Enter a number to print its reverse : '))\n",
    "reverse_num=0\n",
    "while num>0:\n",
    "    digit=num%10\n",
    "    reverse_num=reverse_num*10+digit\n",
    "    num=num//10\n",
    "\n",
    "print(\"Reversed number:\",reverse_num)\n"
   ]
  },
  {
   "cell_type": "code",
   "execution_count": 15,
   "metadata": {
    "id": "putBsYGWF4XQ"
   },
   "outputs": [
    {
     "name": "stdin",
     "output_type": "stream",
     "text": [
      "Enter a number to print its factorial :  3\n"
     ]
    },
    {
     "name": "stdout",
     "output_type": "stream",
     "text": [
      "6\n"
     ]
    }
   ],
   "source": [
    "#8. Write a program that prints the factorial of a given number using a while loop.\n",
    "num=int(input('Enter a number to print its factorial : '))\n",
    "i=1\n",
    "factorial=1\n",
    "while i<=num:\n",
    "    factorial=factorial*i\n",
    "    i=i+1\n",
    "    \n",
    "\n",
    "print(factorial)\n",
    "    "
   ]
  },
  {
   "cell_type": "code",
   "execution_count": null,
   "metadata": {
    "id": "_v7-kSUDF4cd"
   },
   "outputs": [],
   "source": [
    "#9. Write a program that prints the prime numbers between 1 and 100 using a while loop.\n",
    "i=1\n",
    "\n",
    "while i<=100:\n",
    "    if "
   ]
  },
  {
   "cell_type": "code",
   "execution_count": 17,
   "metadata": {
    "id": "GG81XGmHF4ii"
   },
   "outputs": [
    {
     "name": "stdin",
     "output_type": "stream",
     "text": [
      "Enter a positive integer:  7\n"
     ]
    },
    {
     "name": "stdout",
     "output_type": "stream",
     "text": [
      "The sum of the first 7 natural numbers is 28\n"
     ]
    }
   ],
   "source": [
    "#10.Write a program that prints the sum of the first n natural numbers using a while loop.\n",
    "# Program to find the sum of the first n natural numbers using a while loop\n",
    "\n",
    "n = int(input(\"Enter a positive integer: \"))\n",
    "sum = 0\n",
    "i = 1\n",
    "\n",
    "if n <= 0:\n",
    "    print(\"Please enter a positive integer.\")\n",
    "else:\n",
    "    while i <= n:\n",
    "        sum += i\n",
    "        i += 1\n",
    "    print(f\"The sum of the first {n} natural numbers is {sum}\")\n"
   ]
  }
 ],
 "metadata": {
  "colab": {
   "provenance": []
  },
  "kernelspec": {
   "display_name": "Python [conda env:base] *",
   "language": "python",
   "name": "conda-base-py"
  },
  "language_info": {
   "codemirror_mode": {
    "name": "ipython",
    "version": 3
   },
   "file_extension": ".py",
   "mimetype": "text/x-python",
   "name": "python",
   "nbconvert_exporter": "python",
   "pygments_lexer": "ipython3",
   "version": "3.12.7"
  }
 },
 "nbformat": 4,
 "nbformat_minor": 4
}
