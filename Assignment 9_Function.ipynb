{
 "cells": [
  {
   "cell_type": "code",
   "execution_count": 3,
   "id": "d9f4aee1-242a-4fd4-9dce-845988e4a69a",
   "metadata": {},
   "outputs": [
    {
     "name": "stdout",
     "output_type": "stream",
     "text": [
      "3\n"
     ]
    }
   ],
   "source": [
    "'''\n",
    "1.  Function Count:\n",
    "    Write a function count_occurrences that takes a list and a target element as \n",
    "    parameters and returns the number of times the target element appears in the list.\n",
    "'''\n",
    "def count_occurrences(lst, target):\n",
    "    count = 0\n",
    "    for element in lst:\n",
    "        if element == target:\n",
    "            count += 1\n",
    "    return count\n",
    "list = [1,2,3,4,5,6,7,2,3,4,5,6,2]\n",
    "terget = 2\n",
    "print(count_occurrences(list,terget))\n"
   ]
  },
  {
   "cell_type": "code",
   "execution_count": 5,
   "id": "e909bbbc-a7d4-4dfd-8775-97804f47794f",
   "metadata": {},
   "outputs": [
    {
     "name": "stdout",
     "output_type": "stream",
     "text": [
      "[1, 2, 3, 4, 5, 6]\n"
     ]
    }
   ],
   "source": [
    "'''\n",
    "2. Function Concatenation:\n",
    "Create a function concat_lists that takes two lists as parameters and returns a new list \n",
    "that is the concatenation of the input lists.\n",
    "'''\n",
    "def concat_lists(l1,l2):\n",
    "    return(l1+l2)\n",
    "\n",
    "l1 = [1,2,3]\n",
    "l2 = [4,5,6]\n",
    "print(concat_lists(l1,l2))"
   ]
  },
  {
   "cell_type": "code",
   "execution_count": 7,
   "id": "a731568f-009a-48fb-bb90-b06f24bebdde",
   "metadata": {},
   "outputs": [
    {
     "name": "stdout",
     "output_type": "stream",
     "text": [
      "True\n"
     ]
    }
   ],
   "source": [
    "'''\n",
    "3. Function Palindrome:\n",
    "Implement a function is_palindrome that takes a string as a parameter and returns \n",
    "True if it is a palindrome (reads the same backward as forward), and False otherwise.\n",
    "'''\n",
    "def is_palindrome(s):\n",
    "    return s == s[::-1]\n",
    "print(is_palindrome('tenet'))"
   ]
  },
  {
   "cell_type": "code",
   "execution_count": 1,
   "id": "fdc2d915-cf48-4b6c-a5ab-0a5c58665b8f",
   "metadata": {},
   "outputs": [
    {
     "name": "stdout",
     "output_type": "stream",
     "text": [
      "[3, 4, 5]\n"
     ]
    }
   ],
   "source": [
    "'''\n",
    "4. Function Intersection:\n",
    "Define a function find_common_elements that takes two lists as parameters and \n",
    "returns a new list containing the common elements between the two input lists.\n",
    "'''\n",
    "def find_common_elements(l1, l2):\n",
    "    return list(set(l1) & set(l2))\n",
    "\n",
    "a = [1, 2, 3, 4, 5]\n",
    "b = [4, 5, 6, 7, 3]\n",
    "\n",
    "print(find_common_elements(a, b))\n",
    "\n"
   ]
  },
  {
   "cell_type": "code",
   "execution_count": 5,
   "id": "6926311b-f85f-49c1-b3c4-88ecab3e4543",
   "metadata": {},
   "outputs": [
    {
     "name": "stdout",
     "output_type": "stream",
     "text": [
      "['Ram', 'Shayam', 'Sita', 'Ravaan']\n"
     ]
    }
   ],
   "source": [
    "'''\n",
    "5. Function Capitalization:\n",
    "Write a function capitalize_names that takes a list of names as parameters and returns \n",
    "a new list where each name is capitalized.\n",
    "'''\n",
    "def capitalize_names(names):\n",
    "    return [i.capitalize() for i in names]\n",
    "names=['raM','ShaYam','SIta','raVaAn']\n",
    "print(capitalize_names(names))\n"
   ]
  },
  {
   "cell_type": "code",
   "execution_count": null,
   "id": "46a4eb86-4cbb-4ae9-8f49-a8e914d7ba92",
   "metadata": {},
   "outputs": [],
   "source": []
  },
  {
   "cell_type": "code",
   "execution_count": null,
   "id": "eb5414b3-87fa-46ff-ac59-332d25d5c10d",
   "metadata": {},
   "outputs": [],
   "source": []
  },
  {
   "cell_type": "code",
   "execution_count": null,
   "id": "3379a1ee-79a8-4771-b2be-6b488b0a1849",
   "metadata": {},
   "outputs": [],
   "source": []
  }
 ],
 "metadata": {
  "kernelspec": {
   "display_name": "Python [conda env:base] *",
   "language": "python",
   "name": "conda-base-py"
  },
  "language_info": {
   "codemirror_mode": {
    "name": "ipython",
    "version": 3
   },
   "file_extension": ".py",
   "mimetype": "text/x-python",
   "name": "python",
   "nbconvert_exporter": "python",
   "pygments_lexer": "ipython3",
   "version": "3.12.7"
  }
 },
 "nbformat": 4,
 "nbformat_minor": 5
}
