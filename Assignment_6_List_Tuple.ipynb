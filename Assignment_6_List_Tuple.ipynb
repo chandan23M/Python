{
  "nbformat": 4,
  "nbformat_minor": 0,
  "metadata": {
    "colab": {
      "provenance": []
    },
    "kernelspec": {
      "name": "python3",
      "display_name": "Python 3"
    },
    "language_info": {
      "name": "python"
    }
  },
  "cells": [
    {
      "cell_type": "code",
      "execution_count": null,
      "metadata": {
        "colab": {
          "base_uri": "https://localhost:8080/"
        },
        "id": "goHI81-PZM3k",
        "outputId": "1ab1b262-cea1-4867-e1d2-44621b340a2a"
      },
      "outputs": [
        {
          "output_type": "stream",
          "name": "stdout",
          "text": [
            "21\n"
          ]
        }
      ],
      "source": [
        "#1. Write a Python program to sum all the items in a list.\n",
        "l=[1,2,3,4,5,6]\n",
        "sum=0\n",
        "for i in l:\n",
        "  sum=sum+i\n",
        "print(sum)"
      ]
    },
    {
      "cell_type": "code",
      "source": [
        "#2. Write a Python program to find the largest number in a list.\n",
        "l=[1,2,3,4,5,6]\n",
        "max=0\n",
        "for i in l:\n",
        "  if i>max:\n",
        "    max=i\n",
        "print(max)"
      ],
      "metadata": {
        "colab": {
          "base_uri": "https://localhost:8080/"
        },
        "id": "GN9_n-_XZORh",
        "outputId": "028596b4-86b2-4aac-880c-46f5861c5565"
      },
      "execution_count": null,
      "outputs": [
        {
          "output_type": "stream",
          "name": "stdout",
          "text": [
            "6\n"
          ]
        }
      ]
    },
    {
      "cell_type": "code",
      "source": [
        "#3. Write a Python program to find the smallest number in a list.\n",
        "l=[1,2,3,4,5,6]\n",
        "min=l[0]\n",
        "for i in l:\n",
        "  if i<min:\n",
        "    min=i\n",
        "print(min)"
      ],
      "metadata": {
        "colab": {
          "base_uri": "https://localhost:8080/"
        },
        "id": "B0Mm9wIbZOUf",
        "outputId": "ea6587c1-821d-41dc-e385-ec7739f51893"
      },
      "execution_count": null,
      "outputs": [
        {
          "output_type": "stream",
          "name": "stdout",
          "text": [
            "1\n"
          ]
        }
      ]
    },
    {
      "cell_type": "code",
      "source": [
        "#4. Write a Python program to count the number of elements in a list.\n",
        "l=[1,2,3,4,5,6]\n",
        "count=0\n",
        "for i in l:\n",
        "  count=count+1\n",
        "print(count)"
      ],
      "metadata": {
        "colab": {
          "base_uri": "https://localhost:8080/"
        },
        "id": "z9WGahO9ZOXQ",
        "outputId": "a554107e-b408-48ea-ccd5-fd8685d51bcc"
      },
      "execution_count": null,
      "outputs": [
        {
          "output_type": "stream",
          "name": "stdout",
          "text": [
            "6\n"
          ]
        }
      ]
    },
    {
      "cell_type": "code",
      "source": [
        "#5. Write a Python program to remove duplicates from a list.\n",
        "l=[1,2,3,4,5,6,1,2,3,4,5,6]\n",
        "l1=[]\n",
        "for i in l:\n",
        "  if i not in l1:\n",
        "    l1.append(i)\n",
        "print(l1)"
      ],
      "metadata": {
        "colab": {
          "base_uri": "https://localhost:8080/"
        },
        "id": "x2D4AKG_ZOZ4",
        "outputId": "2b91d440-7381-4dfd-d404-20d18f508d06"
      },
      "execution_count": null,
      "outputs": [
        {
          "output_type": "stream",
          "name": "stdout",
          "text": [
            "[1, 2, 3, 4, 5, 6]\n"
          ]
        }
      ]
    },
    {
      "cell_type": "code",
      "source": [
        "#6. Write a Python program to check if a list is empty or not.\n",
        "l=[]\n",
        "if len(l)==0:\n",
        "  print(\"list is empty\")\n",
        "else:\n",
        "  print(\"list is not empty\")"
      ],
      "metadata": {
        "colab": {
          "base_uri": "https://localhost:8080/"
        },
        "id": "1AHdiJGnZOfB",
        "outputId": "3c3889ed-579f-4aef-eded-da321549a479"
      },
      "execution_count": null,
      "outputs": [
        {
          "output_type": "stream",
          "name": "stdout",
          "text": [
            "list is empty\n"
          ]
        }
      ]
    },
    {
      "cell_type": "code",
      "source": [
        "#7. Write a Python program to find the length of a tuple.\n",
        "t=(2,3,12,3,3,4,5,6,7,8,6)\n",
        "len=0\n",
        "for i in t:\n",
        "  len=len+1\n",
        "print(len)\n"
      ],
      "metadata": {
        "colab": {
          "base_uri": "https://localhost:8080/"
        },
        "id": "-drLLd5MZOhv",
        "outputId": "b1bf8856-2591-4309-a8c5-2c6f0175e45c"
      },
      "execution_count": null,
      "outputs": [
        {
          "output_type": "stream",
          "name": "stdout",
          "text": [
            "11\n"
          ]
        }
      ]
    },
    {
      "cell_type": "code",
      "source": [
        "#8. Write a Python program to find the largest number in a tuple.\n",
        "t=(2,3,12,3,3,4,5,6,7,8,6)\n",
        "max=0\n",
        "for i in t:\n",
        "  if i>max:\n",
        "    max=i\n",
        "print(max)"
      ],
      "metadata": {
        "colab": {
          "base_uri": "https://localhost:8080/"
        },
        "id": "3lslqXvmr111",
        "outputId": "abcf807a-6a90-4d4b-e4f8-d17a3ad823d4"
      },
      "execution_count": null,
      "outputs": [
        {
          "output_type": "stream",
          "name": "stdout",
          "text": [
            "12\n"
          ]
        }
      ]
    },
    {
      "cell_type": "code",
      "source": [
        "#9. Write a Python program to find the smallest number in a tuple.\n",
        "t=(2,3,12,3,3,4,5,6,7,8,6)\n",
        "min=t[0]\n",
        "for i in t:\n",
        "  if i<min:\n",
        "    min=i\n",
        "print(min)"
      ],
      "metadata": {
        "colab": {
          "base_uri": "https://localhost:8080/"
        },
        "id": "eVMpzXeBr146",
        "outputId": "d4d73100-958d-4b87-fb77-e0d08c710c4e"
      },
      "execution_count": null,
      "outputs": [
        {
          "output_type": "stream",
          "name": "stdout",
          "text": [
            "2\n"
          ]
        }
      ]
    },
    {
      "cell_type": "code",
      "source": [
        "#10. Write a Python program to count the number of elements in a tuple.\n",
        "t=(1,2,3,4,5,6,7,89)\n",
        "count=0\n",
        "for i in t:\n",
        "  count=count+1\n",
        "print(count)"
      ],
      "metadata": {
        "colab": {
          "base_uri": "https://localhost:8080/"
        },
        "id": "WnvWF_Cvr18C",
        "outputId": "b3a79c23-c1a3-4a32-90cc-676811e25969"
      },
      "execution_count": null,
      "outputs": [
        {
          "output_type": "stream",
          "name": "stdout",
          "text": [
            "8\n"
          ]
        }
      ]
    },
    {
      "cell_type": "code",
      "source": [
        "#11. Write a Python program to check if a tuple is empty or not.\n",
        "t=(1,2,3)\n",
        "if not t:\n",
        "  print('Tuple is empty')\n",
        "else:\n",
        "    print(\"Tuple is not empty\")"
      ],
      "metadata": {
        "colab": {
          "base_uri": "https://localhost:8080/"
        },
        "id": "ZapE2xCLr1-W",
        "outputId": "96b82bff-5d86-486e-84c0-86fc3171255e"
      },
      "execution_count": null,
      "outputs": [
        {
          "output_type": "stream",
          "name": "stdout",
          "text": [
            "Tuple is not empty\n"
          ]
        }
      ]
    },
    {
      "cell_type": "code",
      "source": [
        "#12. Write a Python program to check if a given element exists in a list.\n",
        "l=[1,2,3,4,5,6]\n",
        "element=int(input(\"enter the element to check:\"))\n",
        "if element in l:\n",
        "  print(\"element exists in list\")\n",
        "else:\n",
        "  print(\"element does not exist in list\")"
      ],
      "metadata": {
        "id": "PvFlBTZar2DO",
        "colab": {
          "base_uri": "https://localhost:8080/"
        },
        "outputId": "8369202a-93e3-4e01-ad03-1e9d2dc35acb"
      },
      "execution_count": null,
      "outputs": [
        {
          "output_type": "stream",
          "name": "stdout",
          "text": [
            "enter the element to check:2\n",
            "element exists in list\n"
          ]
        }
      ]
    },
    {
      "cell_type": "code",
      "source": [
        "#13. Write a Python program to check if a given element exists in a tuple.\n",
        "t=(1,2,3,4,5,6,7,8)\n",
        "element=int(input(\"enter the element to check:\"))\n",
        "if element in t:\n",
        "  print(\"element exists in tuple\")\n",
        "else:\n",
        "  print(\"element does not exist in tuple\")"
      ],
      "metadata": {
        "id": "tt-rk2u4r2G7",
        "colab": {
          "base_uri": "https://localhost:8080/"
        },
        "outputId": "cb3cfdc2-7054-4c15-a4c4-f4f987111b7f"
      },
      "execution_count": null,
      "outputs": [
        {
          "output_type": "stream",
          "name": "stdout",
          "text": [
            "enter the element to check:0\n",
            "element does not exist in tuple\n"
          ]
        }
      ]
    },
    {
      "cell_type": "code",
      "source": [
        "#14. Write a Python program to check if a given key exists in a dictionary.\n",
        "d={\"name\" : \"Ram\", \"roll\" : 1, \"class\" : 5, \"city\" : \"Kolkata\"}\n",
        "key=input(\"enter the key to check:\")\n",
        "if key in d:\n",
        "  print(f\"The key '{key}' exists in dictionary\")\n",
        "else:\n",
        "  print(f\"The key '{key}' does not exist in dictionary\")"
      ],
      "metadata": {
        "id": "cUn2vAFhr2J0",
        "colab": {
          "base_uri": "https://localhost:8080/"
        },
        "outputId": "8c65ee5a-eed2-4bbf-bddc-45fdfaae8ce6"
      },
      "execution_count": null,
      "outputs": [
        {
          "output_type": "stream",
          "name": "stdout",
          "text": [
            "enter the key to check:city\n",
            "The key 'city' exists in dictionary\n"
          ]
        }
      ]
    },
    {
      "cell_type": "code",
      "source": [
        "#15. Write a Python program to find the sum of all even numbers in a list.\n",
        "l=[1,2,3,4,5,6,7,8,9,0]\n",
        "l1=[]\n",
        "for i in l:\n",
        "  if i%2!=0:\n",
        "    l1.append(i)\n",
        "\n",
        "print(l1)\n",
        "j=0\n",
        "for i in l1:\n",
        "  j+=i\n",
        "print(f'the sum of all even numbers in {l} is:',j)\n"
      ],
      "metadata": {
        "id": "8aTkvzOYr2MV",
        "colab": {
          "base_uri": "https://localhost:8080/"
        },
        "outputId": "008f412a-6527-47c8-ae33-62a3216bbff7"
      },
      "execution_count": null,
      "outputs": [
        {
          "output_type": "stream",
          "name": "stdout",
          "text": [
            "[1, 3, 5, 7, 9]\n",
            "the sum of all even numbers in [1, 2, 3, 4, 5, 6, 7, 8, 9, 0] is: 25\n"
          ]
        }
      ]
    },
    {
      "cell_type": "code",
      "source": [
        "#16. Write a Python program to find the sum of all odd numbers in a list.\n",
        "l=[1,2,3,4,5,6,7,8,9,0]\n",
        "l1=[]\n",
        "for i in l:\n",
        "  if i%2==0:\n",
        "    l1.append(i)\n",
        "\n",
        "print(f'the sum of all odd numbers in {l} is:',sum(l1))"
      ],
      "metadata": {
        "id": "2wUei3GKr2Pc",
        "colab": {
          "base_uri": "https://localhost:8080/"
        },
        "outputId": "1d255a26-a6e2-427d-d7b9-6b8c6b9a0f8f"
      },
      "execution_count": null,
      "outputs": [
        {
          "output_type": "stream",
          "name": "stdout",
          "text": [
            "the sum of all odd numbers in [1, 2, 3, 4, 5, 6, 7, 8, 9, 0] is: 20\n"
          ]
        }
      ]
    },
    {
      "cell_type": "code",
      "source": [
        "#17. Write a Python program to find the factorial of a number using recursion."
      ],
      "metadata": {
        "id": "6TwFp6Rnl9dR"
      },
      "execution_count": null,
      "outputs": []
    },
    {
      "cell_type": "code",
      "source": [
        "#18. Write a Python program to find the factorial of a number using a loop.\n",
        "a=4\n",
        "b=1\n",
        "for i in range(1,a+1):\n",
        "  b=b*i\n",
        "print(f'the factorial of {a} :',b)"
      ],
      "metadata": {
        "colab": {
          "base_uri": "https://localhost:8080/"
        },
        "id": "4ppcWBP9l9gY",
        "outputId": "40a53beb-029a-4eed-bf1a-66c52aba6446"
      },
      "execution_count": null,
      "outputs": [
        {
          "output_type": "stream",
          "name": "stdout",
          "text": [
            "the factorial of 4 : 24\n"
          ]
        }
      ]
    },
    {
      "cell_type": "code",
      "source": [
        "#19. Write a Python program to check if a number is prime or not.\n",
        "\n"
      ],
      "metadata": {
        "colab": {
          "base_uri": "https://localhost:8080/"
        },
        "id": "wX4HeJa9l9kJ",
        "outputId": "68953057-5947-4f44-adf3-99eb89182d78"
      },
      "execution_count": 3,
      "outputs": [
        {
          "output_type": "stream",
          "name": "stdout",
          "text": [
            "not prime num\n"
          ]
        }
      ]
    },
    {
      "cell_type": "code",
      "source": [
        "#20. Write a Python program to find the Fibonacci series up to n terms.\n",
        "n=int(input('Enter a positive num: ',))\n",
        "a=0\n",
        "b=1\n",
        "print(\"Fibonacci series up to 10 terms:\")\n",
        "\n",
        "for i in range(n):\n",
        "    print(a)\n",
        "    a, b = b, a + b\n"
      ],
      "metadata": {
        "id": "6BMalKzxl9mZ",
        "colab": {
          "base_uri": "https://localhost:8080/"
        },
        "outputId": "691e0ad1-fba6-4b4a-8b95-f6f4048640d1"
      },
      "execution_count": 6,
      "outputs": [
        {
          "output_type": "stream",
          "name": "stdout",
          "text": [
            "Enter a positive num: 7\n",
            "Fibonacci series up to 10 terms:\n",
            "0\n",
            "1\n",
            "1\n",
            "2\n",
            "3\n",
            "5\n",
            "8\n"
          ]
        }
      ]
    },
    {
      "cell_type": "code",
      "source": [
        "#21. Write a Python program to find the GCD of two numbers.\n",
        "a=int(input(\"Enter first number: \"))\n",
        "b=int(input(\"Enter second number: \"))\n",
        "while b!=0:\n",
        "  a , b = b , a%b\n",
        "print(a)\n"
      ],
      "metadata": {
        "id": "MKM5hdYXl9pS",
        "colab": {
          "base_uri": "https://localhost:8080/"
        },
        "outputId": "b6cc93bb-0f11-4165-8717-83a9e230103a"
      },
      "execution_count": 10,
      "outputs": [
        {
          "output_type": "stream",
          "name": "stdout",
          "text": [
            "Enter first number: 6\n",
            "Enter second number: 8\n",
            "2\n"
          ]
        }
      ]
    },
    {
      "cell_type": "code",
      "source": [
        "#22. Write a Python program to find the LCM of two numbers.\n"
      ],
      "metadata": {
        "id": "u3OSDtQsl9r7"
      },
      "execution_count": null,
      "outputs": []
    },
    {
      "cell_type": "code",
      "source": [
        "#23. Write a Python program to reverse a list.\n",
        "l=[1,2,3,4,5,6,7,8]\n",
        "reverse_l=l[::-1]\n",
        "print(reverse_l)"
      ],
      "metadata": {
        "id": "807vNXJJl9uB",
        "colab": {
          "base_uri": "https://localhost:8080/"
        },
        "outputId": "7088e014-ce99-4ff4-e0b9-699163100732"
      },
      "execution_count": 13,
      "outputs": [
        {
          "output_type": "stream",
          "name": "stdout",
          "text": [
            "[8, 7, 6, 5, 4, 3, 2, 1]\n"
          ]
        }
      ]
    },
    {
      "cell_type": "code",
      "source": [
        "#24. Write a Python program to sort a list in ascending order.\n",
        "l=[5,4,3,2,6,7,8,1,9]\n",
        "l.sort()\n",
        "print(\"Sorted list in ascending order: \",l)"
      ],
      "metadata": {
        "id": "D1VS7Kr6l9wq",
        "colab": {
          "base_uri": "https://localhost:8080/"
        },
        "outputId": "6531ea55-5f3c-46ef-8335-320580bc6f1c"
      },
      "execution_count": 15,
      "outputs": [
        {
          "output_type": "stream",
          "name": "stdout",
          "text": [
            "Sorted list in ascending order:  [1, 2, 3, 4, 5, 6, 7, 8, 9]\n"
          ]
        }
      ]
    },
    {
      "cell_type": "code",
      "source": [
        "#25. Write a Python program to sort a list in descending order.\n",
        "l=[5,4,3,2,6,7,8,1,9]\n",
        "l.sort()\n",
        "reverse_l=l[::-1]\n",
        "print(\"Sorted list in descending order:\",reverse_l)"
      ],
      "metadata": {
        "id": "rAWb7nttl9zM",
        "colab": {
          "base_uri": "https://localhost:8080/"
        },
        "outputId": "823bb83d-f6fc-4f27-db66-83d8cde11201"
      },
      "execution_count": 17,
      "outputs": [
        {
          "output_type": "stream",
          "name": "stdout",
          "text": [
            "Sorted list in descending order: [9, 8, 7, 6, 5, 4, 3, 2, 1]\n"
          ]
        }
      ]
    },
    {
      "cell_type": "code",
      "source": [],
      "metadata": {
        "id": "lJJUWyggl91r"
      },
      "execution_count": null,
      "outputs": []
    }
  ]
}