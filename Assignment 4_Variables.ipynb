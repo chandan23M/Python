{
 "cells": [
  {
   "cell_type": "code",
   "execution_count": null,
   "id": "f5c8973f-9f17-495d-8124-9bb3b6065d78",
   "metadata": {},
   "outputs": [],
   "source": [
    "'''\n",
    "Name: Chandan Maji\n",
    "assignment-4\n",
    "'''"
   ]
  },
  {
   "cell_type": "code",
   "execution_count": 1,
   "id": "d4af19f8-0192-4158-9ca2-15e5bbdbdefc",
   "metadata": {},
   "outputs": [
    {
     "name": "stdout",
     "output_type": "stream",
     "text": [
      "25\n"
     ]
    }
   ],
   "source": [
    "#1. Declare an integer variable `age` with the value 25.\n",
    "age=25\n",
    "print(age)\n"
   ]
  },
  {
   "cell_type": "code",
   "execution_count": 5,
   "id": "fd79d427-a5e7-458b-988a-77d44e4bdd77",
   "metadata": {},
   "outputs": [
    {
     "name": "stdout",
     "output_type": "stream",
     "text": [
      "Chandan\n"
     ]
    }
   ],
   "source": [
    "#2. Create a string variable `name` with your name as its value.\n",
    "name=\"Chandan\"\n",
    "print(name)"
   ]
  },
  {
   "cell_type": "code",
   "execution_count": 7,
   "id": "f18a058f-85ba-4af4-9d10-ebcc6f6f8251",
   "metadata": {},
   "outputs": [
    {
     "name": "stdout",
     "output_type": "stream",
     "text": [
      "['apple', 'banana', 'mango']\n"
     ]
    }
   ],
   "source": [
    "#3. Declare a list variable `fruits` containing three fruit names of your choice.\n",
    "fruits=['apple','banana','mango']\n",
    "print(fruits)"
   ]
  },
  {
   "cell_type": "code",
   "execution_count": 9,
   "id": "ca29e654-b257-4836-8a5d-16f95ad5f92a",
   "metadata": {},
   "outputs": [
    {
     "name": "stdout",
     "output_type": "stream",
     "text": [
      "7\n",
      "5\n"
     ]
    }
   ],
   "source": [
    "#4. Write code to swap the values of two variables, `a` and `b`, without using a temporary variable.\n",
    "\n",
    "a=5\n",
    "b=7\n",
    "a=a+b\n",
    "b=a-b\n",
    "a=a-b\n",
    "print(a)\n",
    "print(b)"
   ]
  },
  {
   "cell_type": "code",
   "execution_count": 11,
   "id": "ecc48295-5d94-47df-8203-747430850392",
   "metadata": {},
   "outputs": [
    {
     "name": "stdout",
     "output_type": "stream",
     "text": [
      "<class 'float'>\n"
     ]
    }
   ],
   "source": [
    "#5. Create a float variable `price` with the value 19.99.\n",
    "\n",
    "price=19.99\n",
    "print(type(price))"
   ]
  },
  {
   "cell_type": "code",
   "execution_count": 15,
   "id": "67c31068-7a26-4249-b489-5f0d8f6f7487",
   "metadata": {},
   "outputs": [
    {
     "name": "stdout",
     "output_type": "stream",
     "text": [
      "<class 'bool'>\n"
     ]
    }
   ],
   "source": [
    "#6. Define a boolean variable `is_student` and set it to `True`.\n",
    "\n",
    "is_student=True\n",
    "print(type(is_student))"
   ]
  },
  {
   "cell_type": "code",
   "execution_count": 17,
   "id": "80368461-9405-4d19-83db-dc73e97c75e8",
   "metadata": {},
   "outputs": [
    {
     "name": "stdout",
     "output_type": "stream",
     "text": [
      "<class 'tuple'>\n"
     ]
    }
   ],
   "source": [
    "#7. Create a tuple variable `coordinates` that stores the latitude and longitude of a location (e.g., (40.7128, -74.0060)).\n",
    "\n",
    "coordinates=(40.7128, -74.0060)\n",
    "print(type(coordinates))\n"
   ]
  },
  {
   "cell_type": "code",
   "execution_count": null,
   "id": "a59b88fc-659b-4f57-a954-0bca9058ebe7",
   "metadata": {},
   "outputs": [],
   "source": []
  },
  {
   "cell_type": "code",
   "execution_count": 19,
   "id": "5f3aa2d9-e3db-40e3-a6fe-290d36b089ab",
   "metadata": {},
   "outputs": [
    {
     "name": "stdout",
     "output_type": "stream",
     "text": [
      "<class 'dict'>\n"
     ]
    }
   ],
   "source": [
    "#8. Declare a dictionary variable `student` with keys \"name\" and \"age\" and set their values accordingly.\n",
    "\n",
    "student = {\n",
    "    \"name\": \"Chandan\",\n",
    "    \"age\": 23\n",
    "}\n",
    "print(type(student))\n"
   ]
  },
  {
   "cell_type": "code",
   "execution_count": 21,
   "id": "0735ce0b-0a62-47fc-8a42-21c21688f616",
   "metadata": {},
   "outputs": [
    {
     "name": "stdout",
     "output_type": "stream",
     "text": [
      "The area of the circle with radius 5 is: 78.53981633974483\n"
     ]
    }
   ],
   "source": [
    "#9. Write a Python program that calculates the area of a circle with a given radius. Use a variable `radius` to store the radius value.\n",
    "\n",
    "import math\n",
    "\n",
    "radius = 5  # You can change this value to any radius you want\n",
    "area = math.pi * radius ** 2\n",
    "\n",
    "print(\"The area of the circle with radius\", radius, \"is:\", area)\n"
   ]
  },
  {
   "cell_type": "code",
   "execution_count": 27,
   "id": "4f67b232-1742-4828-8c50-198cc3160047",
   "metadata": {},
   "outputs": [
    {
     "name": "stdout",
     "output_type": "stream",
     "text": [
      "[1, 2, 3, 4, 5, 6, 7, 8, 9, 10]\n"
     ]
    }
   ],
   "source": [
    "#10. Create a list variable `numbers` containing integers from 1 to 10 using list comprehension.\n",
    "\n",
    "numbers=[i for i in range(1, 11)]\n",
    "print(numbers)\n"
   ]
  },
  {
   "cell_type": "code",
   "execution_count": 29,
   "id": "3df34149-72b5-45e4-9b84-4a8e505546c4",
   "metadata": {},
   "outputs": [
    {
     "name": "stdout",
     "output_type": "stream",
     "text": [
      "True\n"
     ]
    }
   ],
   "source": [
    "#11. Define a variable `is_valid` and set it to `False`. Then write code to toggle its value to `True`.\n",
    "\n",
    "is_valid = False\n",
    "is_valid = not is_valid\n",
    "\n",
    "print(is_valid)"
   ]
  },
  {
   "cell_type": "code",
   "execution_count": 31,
   "id": "656a9c6b-96e7-4fde-b758-bda434e431a4",
   "metadata": {},
   "outputs": [
    {
     "name": "stdout",
     "output_type": "stream",
     "text": [
      "Lets, learn something new..\n"
     ]
    }
   ],
   "source": [
    "#12. Declare a string variable `sentence` with a sentence of your choice.\n",
    "\n",
    "sentence=\"Lets, learn something new..\"\n",
    "print(sentence)"
   ]
  },
  {
   "cell_type": "code",
   "execution_count": 33,
   "id": "6596e804-f4de-4d5e-a7c0-e503c950b4dd",
   "metadata": {},
   "outputs": [
    {
     "name": "stdout",
     "output_type": "stream",
     "text": [
      "The sum of numbers from 1 to 100 is: 5050\n"
     ]
    }
   ],
   "source": [
    "#13. Write a program that calculates the sum of all numbers from 1 to 100 using a variable `total_sum`.\n",
    "\n",
    "total_sum=sum(range(1,101))\n",
    "print(\"The sum of numbers from 1 to 100 is:\", total_sum)\n"
   ]
  },
  {
   "cell_type": "code",
   "execution_count": 35,
   "id": "604c76a6-5cb9-4607-ac75-10dd2ec49029",
   "metadata": {},
   "outputs": [
    {
     "name": "stdout",
     "output_type": "stream",
     "text": [
      "[89.5, 76.0, 92.3, 84.7, 78.9]\n"
     ]
    }
   ],
   "source": [
    "#14. Create a list variable `grades` containing five test scores as floating-point numbers.\n",
    "\n",
    "grades=[89.5, 76.0, 92.3, 84.7, 78.9]\n",
    "print(grades)"
   ]
  },
  {
   "cell_type": "code",
   "execution_count": 37,
   "id": "4d55ec82-7c96-4d72-a74f-7bb1189adf10",
   "metadata": {},
   "outputs": [
    {
     "name": "stdout",
     "output_type": "stream",
     "text": [
      "Hello, World!\n"
     ]
    }
   ],
   "source": [
    "#15. Define a variable `greeting` and assign it the value \"Hello, World!\".\n",
    "\n",
    "greeting = \"Hello, World!\"\n",
    "print(greeting)"
   ]
  },
  {
   "cell_type": "code",
   "execution_count": 39,
   "id": "94ded404-3bd7-4504-8c85-192bb33979a3",
   "metadata": {},
   "outputs": [
    {
     "name": "stdout",
     "output_type": "stream",
     "text": [
      "('January', 'February', 'March', 'April', 'May', 'June', 'July', 'August', 'September', 'October', 'November', 'December')\n"
     ]
    }
   ],
   "source": [
    "#16. Declare a tuple variable `months` containing the names of the twelve months of the year.\n",
    "\n",
    "months = (\n",
    "    \"January\", \"February\", \"March\", \"April\", \"May\", \"June\",\n",
    "    \"July\", \"August\", \"September\", \"October\", \"November\", \"December\"\n",
    ")\n",
    "print(months)"
   ]
  },
  {
   "cell_type": "code",
   "execution_count": 41,
   "id": "5c3bc5a4-9e2c-49ab-8044-c7c2696f5730",
   "metadata": {},
   "outputs": [
    {
     "name": "stdout",
     "output_type": "stream",
     "text": [
      "1\n"
     ]
    }
   ],
   "source": [
    "#17. Write code that increments an integer variable `counter` by 1 and then prints its value.\n",
    "\n",
    "counter = 0\n",
    "counter += 1\n",
    "print(counter)"
   ]
  },
  {
   "cell_type": "code",
   "execution_count": 43,
   "id": "eebce4b8-d4d6-4c9a-a27d-80dba7e42462",
   "metadata": {},
   "outputs": [
    {
     "name": "stdout",
     "output_type": "stream",
     "text": [
      "{'title': 'To Kill a Mockingbird', 'author': 'Harper Lee', 'year': 1960}\n"
     ]
    }
   ],
   "source": [
    "#18. Create a dictionary variable `book` with keys \"title\", \"author\", and \"year\" to store information about a book.\n",
    "\n",
    "book = {\n",
    "    \"title\": \"To Kill a Mockingbird\",\n",
    "    \"author\": \"Harper Lee\",\n",
    "    \"year\": 1960\n",
    "}\n",
    "print(book)"
   ]
  },
  {
   "cell_type": "code",
   "execution_count": null,
   "id": "2a5a1917-9e75-4bac-8ef5-c43ef76b5912",
   "metadata": {},
   "outputs": [],
   "source": [
    "#19. Define a variable `pi` and assign it the value of the mathematical constant π (pi).\n",
    "\n",
    "import math\n",
    "\n",
    "pi = math.pi\n"
   ]
  },
  {
   "cell_type": "code",
   "execution_count": null,
   "id": "ee0e7cfd-e183-4191-bc69-7b579d7cecf3",
   "metadata": {},
   "outputs": [],
   "source": [
    "#20. Declare a list variable `colors` containing the names of five diff erent colors.\n",
    "\n",
    "colors = [\"red\", \"blue\", \"green\", \"yellow\", \"purple\"]\n"
   ]
  },
  {
   "cell_type": "code",
   "execution_count": 45,
   "id": "abb9fc43-5b9a-4ae7-a428-6d2aefc4850a",
   "metadata": {},
   "outputs": [
    {
     "name": "stdout",
     "output_type": "stream",
     "text": [
      "The area of the rectangle is: 50\n"
     ]
    }
   ],
   "source": [
    "#21. Write a program that calculates the area of a rectangle using variables `length` and `width`\n",
    "length = 10\n",
    "width = 5 \n",
    "\n",
    "area = length * width\n",
    "\n",
    "print(\"The area of the rectangle is:\", area)\n"
   ]
  },
  {
   "cell_type": "code",
   "execution_count": 49,
   "id": "b4d09d3e-dd41-49b7-b6c4-c67312b49371",
   "metadata": {},
   "outputs": [
    {
     "name": "stdout",
     "output_type": "stream",
     "text": [
      "{'first_name': 'Itachi', 'last_name': 'Uchiha'}\n"
     ]
    }
   ],
   "source": [
    "#22. Create a dictionary variable `person` with keys \"first_name\" and \"last_name\" to store a person's name.\n",
    "\n",
    "person = {\n",
    "    \"first_name\": \"Itachi\",\n",
    "    \"last_name\": \"Uchiha\"\n",
    "}\n",
    "print(person)"
   ]
  },
  {
   "cell_type": "code",
   "execution_count": 53,
   "id": "c0782dce-7540-485d-aa14-3d532e28295f",
   "metadata": {},
   "outputs": [
    {
     "name": "stdout",
     "output_type": "stream",
     "text": [
      "Temperature in Fahrenheit: 73.4\n"
     ]
    }
   ],
   "source": [
    "#23. Define a variable `temperature` and assign it a value in Celsius. Convert it to Fahrenheit and store the result in another variable.\n",
    "\n",
    "temperature = 23# Celsius\n",
    "fahrenheit = (temperature * 9/5) + 32\n",
    "\n",
    "print(\"Temperature in Fahrenheit:\", fahrenheit)\n"
   ]
  },
  {
   "cell_type": "code",
   "execution_count": null,
   "id": "d6807010-e831-4ec7-8dfc-2ac92efeba64",
   "metadata": {},
   "outputs": [],
   "source": [
    "#24. Write code that appends a new item to a list named 'shopping_list'.\n",
    "\n",
    "shopping_list = [\"milk\", \"eggs\", \"bread\"]\n",
    "shopping_list.append(\"butter\")\n",
    "\n",
    "print(shopping_list)\n"
   ]
  },
  {
   "cell_type": "code",
   "execution_count": 55,
   "id": "52a8fbe1-694d-48db-ab03-4494e378a7ce",
   "metadata": {},
   "outputs": [
    {
     "name": "stdout",
     "output_type": "stream",
     "text": [
      "False\n"
     ]
    }
   ],
   "source": [
    "#25. Declare a variable `is_raining` and set it to `True`. Then write code to change its value to `False`.\n",
    "is_raining = True\n",
    "is_raining = not is_raining\n",
    "\n",
    "print(is_raining)  # Output: False\n"
   ]
  },
  {
   "cell_type": "code",
   "execution_count": null,
   "id": "f78bc038-4f41-4a75-8764-aba8850c77a2",
   "metadata": {},
   "outputs": [],
   "source": [
    "#1. Write a Python program that takes an integer as input and converts it to a float.\n",
    "\n",
    "integer_value = int(input(\"Enter an integer: \"))\n",
    "\n",
    "float_value = float(integer_value)\n",
    "\n",
    "print(\"The float value is:\", float_value)\n"
   ]
  },
  {
   "cell_type": "code",
   "execution_count": 3,
   "id": "17906472-dd5a-4b6f-810b-636654770c27",
   "metadata": {},
   "outputs": [
    {
     "name": "stdin",
     "output_type": "stream",
     "text": [
      "Please enter your age:  34\n"
     ]
    },
    {
     "name": "stdout",
     "output_type": "stream",
     "text": [
      "You are eligible to vote!\n"
     ]
    }
   ],
   "source": [
    "'''\n",
    "2. Create a program that prompts the user for their age as a\n",
    "string, converts it to an integer, and then checks if they are\n",
    "eligible to vote (18 or older).\n",
    "'''\n",
    "\n",
    "age_input = input(\"Please enter your age: \")\n",
    "\n",
    "\n",
    "try:\n",
    "    age = int(age_input)\n",
    "    \n",
    "    # Check if the user is eligible to vote\n",
    "    if age >= 18:\n",
    "        print(\"You are eligible to vote!\")\n",
    "    else:\n",
    "        print(\"Sorry, you are not eligible to vote yet.\")\n",
    "except ValueError:\n",
    "    print(\"Invalid input. Please enter a valid number.\")\n"
   ]
  },
  {
   "cell_type": "code",
   "execution_count": 5,
   "id": "30974117-53fa-4f9b-9c70-9d0bae5fc195",
   "metadata": {},
   "outputs": [
    {
     "name": "stdin",
     "output_type": "stream",
     "text": [
      "Enter a decimal number:  30.2\n"
     ]
    },
    {
     "name": "stdout",
     "output_type": "stream",
     "text": [
      "Rounded and converted to integer: 30\n"
     ]
    }
   ],
   "source": [
    "#3. Write code to convert a float to an integer and round it to the nearest whole number.\n",
    "\n",
    "float_number = float(input(\"Enter a decimal number: \"))\n",
    "\n",
    "rounded_number = round(float_number)\n",
    "integer_number = int(rounded_number)\n",
    "\n",
    "print(\"Rounded and converted to integer:\", integer_number)\n"
   ]
  },
  {
   "cell_type": "code",
   "execution_count": 7,
   "id": "792d9eb1-5d87-4162-880c-cdb23cdcc94a",
   "metadata": {},
   "outputs": [
    {
     "name": "stdin",
     "output_type": "stream",
     "text": [
      "Enter a sentence:  Learning python is fun\n"
     ]
    },
    {
     "name": "stdout",
     "output_type": "stream",
     "text": [
      "The sentence contains the word 'python'.\n"
     ]
    }
   ],
   "source": [
    "#4. Create a program that takes a user-provided string, converts it to lowercase, and checks if it contains the word \"python.\"\n",
    "# Prompt the user for a string\n",
    "\n",
    "user_input = input(\"Enter a sentence: \")\n",
    "\n",
    "lowercase_input = user_input.lower()\n",
    "\n",
    "if \"python\" in lowercase_input:\n",
    "    print(\"The sentence contains the word 'python'.\")\n",
    "else:\n",
    "    print(\"The sentence does not contain the word 'python'.\")\n"
   ]
  },
  {
   "cell_type": "code",
   "execution_count": 11,
   "id": "fd5b2795-9f2c-4b1c-882b-30f3c4324777",
   "metadata": {},
   "outputs": [
    {
     "name": "stdin",
     "output_type": "stream",
     "text": [
      "Enter a number:  80\n"
     ]
    },
    {
     "name": "stdout",
     "output_type": "stream",
     "text": [
      "The number as an integer is: 80\n"
     ]
    }
   ],
   "source": [
    "#5. Write a program that takes a user-provided string containing a number (e.g., \"42\") and converts it to an integer.\n",
    "\n",
    "number_str = input(\"Enter a number: \")\n",
    "\n",
    "try:\n",
    "    number_int = int(number_str)\n",
    "    print(\"The number as an integer is:\", number_int)\n",
    "except ValueError:\n",
    "    print(\"Invalid input. Please enter a valid number.\")\n"
   ]
  },
  {
   "cell_type": "code",
   "execution_count": 13,
   "id": "1c38c82d-87f1-460a-aab3-77c45550412f",
   "metadata": {},
   "outputs": [
    {
     "name": "stdout",
     "output_type": "stream",
     "text": [
      "List of strings: ['13', '25', '37', '49', '61']\n"
     ]
    }
   ],
   "source": [
    "#6. Create a Python script that converts a list of integers into a list of strings.\n",
    "\n",
    "int_list = [13, 25, 37, 49, 61]\n",
    "\n",
    "str_list = [str(x) for x in int_list]\n",
    "\n",
    "print(\"List of strings:\", str_list)\n"
   ]
  },
  {
   "cell_type": "code",
   "execution_count": 17,
   "id": "89cc8ecd-8571-4398-bc70-c9f1b2432be2",
   "metadata": {},
   "outputs": [
    {
     "name": "stdin",
     "output_type": "stream",
     "text": [
      "Enter the base of the triangle:  4\n",
      "Enter the height of the triangle:  56\n"
     ]
    },
    {
     "name": "stdout",
     "output_type": "stream",
     "text": [
      "The area of the triangle is: 112.0\n"
     ]
    }
   ],
   "source": [
    "'''\n",
    "7. Write a program that calculates the area of a triangle using\n",
    "user-provided string inputs for the base and height. Convert these\n",
    "strings to floats for the calculation.\n",
    "'''\n",
    "\n",
    "base_str = input(\"Enter the base of the triangle: \")\n",
    "height_str = input(\"Enter the height of the triangle: \")\n",
    "\n",
    "try:\n",
    "    base = float(base_str)\n",
    "    height = float(height_str)\n",
    "    \n",
    "    area = 0.5*base*height\n",
    "\n",
    "    print(\"The area of the triangle is:\", area)\n",
    "except ValueError:\n",
    "    print(\"Invalid input. Please enter numeric values for base and height.\")\n"
   ]
  },
  {
   "cell_type": "code",
   "execution_count": null,
   "id": "d45fd884-7a2f-4b8c-8c10-cb0489e10935",
   "metadata": {},
   "outputs": [],
   "source": [
    "#8. Create a program that takes a user-provided number in string format and converts it to a binary number in integer form.\n",
    "\n"
   ]
  },
  {
   "cell_type": "code",
   "execution_count": null,
   "id": "86be0b3f-d2b2-461c-914e-65921dc0506a",
   "metadata": {},
   "outputs": [],
   "source": [
    "#9. Write code that converts a list of strings representing numbers (e.g., [\"3\", \"5\", \"7\"]) into a list of integers.\n",
    "\n",
    "string_numbers = [\"3\", \"5\", \"7\"]\n",
    "\n",
    "int_numbers = [int(num) for num in string_numbers]\n",
    "\n",
    "print(int_numbers)\n"
   ]
  },
  {
   "cell_type": "code",
   "execution_count": 1,
   "id": "e166a253-7bcd-4026-b6d9-302ba5b14426",
   "metadata": {},
   "outputs": [
    {
     "name": "stdin",
     "output_type": "stream",
     "text": [
      "Enter a decimal number (e.g., '3.14'):  7.45\n"
     ]
    },
    {
     "name": "stdout",
     "output_type": "stream",
     "text": [
      "The float value is: 7.45\n"
     ]
    }
   ],
   "source": [
    "#10. Create a program that takes a user-provided string containing a decimal number (e.g., \"3.14\") and converts it to a float.\n",
    "\n",
    "user_input = input(\"Enter a decimal number (e.g., '3.14'): \")\n",
    "\n",
    "try:\n",
    "    number = float(user_input)\n",
    "    print(\"The float value is:\", number)\n",
    "except ValueError:\n",
    "    print(\"Invalid input! Please enter a valid decimal number.\")\n"
   ]
  }
 ],
 "metadata": {
  "kernelspec": {
   "display_name": "Python [conda env:base] *",
   "language": "python",
   "name": "conda-base-py"
  },
  "language_info": {
   "codemirror_mode": {
    "name": "ipython",
    "version": 3
   },
   "file_extension": ".py",
   "mimetype": "text/x-python",
   "name": "python",
   "nbconvert_exporter": "python",
   "pygments_lexer": "ipython3",
   "version": "3.12.7"
  }
 },
 "nbformat": 4,
 "nbformat_minor": 5
}
